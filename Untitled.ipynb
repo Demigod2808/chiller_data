{
 "cells": [
  {
   "cell_type": "markdown",
   "metadata": {},
   "source": [
    "# Import Unit"
   ]
  },
  {
   "cell_type": "code",
   "execution_count": 55,
   "metadata": {},
   "outputs": [],
   "source": [
    "import numpy as np\n",
    "import pandas as pd\n",
    "import datetime\n",
    "# from sklearn_pandas import CategoricalImputer\n",
    "from sklearn.base import BaseEstimator ,TransformerMixin\n",
    "from sklearn.pipeline import FeatureUnion\n",
    "from sklearn.pipeline import Pipeline\n",
    "from sklearn.preprocessing import StandardScaler\n",
    "from sklearn.preprocessing import Imputer\n",
    "from sklearn.model_selection import GridSearchCV\n",
    "from sklearn.preprocessing import OneHotEncoder\n",
    "from sklearn.metrics import mean_squared_error\n",
    "from sklearn.linear_model import LinearRegression\n",
    "from sklearn.linear_model import LogisticRegression\n",
    "import matplotlib.pyplot as plt\n",
    "from sklearn.ensemble import RandomForestRegressor\n",
    "import tensorflow as tf\n",
    "from tensorflow.keras.models import Sequential\n",
    "from tensorflow.keras.layers import Activation , Dropout  ,Dense\n",
    "import joblib\n",
    "from sklearn.ensemble import VotingClassifier\n",
    "from sklearn.linear_model import LogisticRegression"
   ]
  },
  {
   "cell_type": "markdown",
   "metadata": {},
   "source": [
    "# Loading Data Unit"
   ]
  },
  {
   "cell_type": "code",
   "execution_count": 2,
   "metadata": {},
   "outputs": [
    {
     "data": {
      "text/html": [
       "<div>\n",
       "<style scoped>\n",
       "    .dataframe tbody tr th:only-of-type {\n",
       "        vertical-align: middle;\n",
       "    }\n",
       "\n",
       "    .dataframe tbody tr th {\n",
       "        vertical-align: top;\n",
       "    }\n",
       "\n",
       "    .dataframe thead th {\n",
       "        text-align: right;\n",
       "    }\n",
       "</style>\n",
       "<table border=\"1\" class=\"dataframe\">\n",
       "  <thead>\n",
       "    <tr style=\"text-align: right;\">\n",
       "      <th></th>\n",
       "      <th>Date</th>\n",
       "      <th>Inlet</th>\n",
       "      <th>Outlet</th>\n",
       "      <th>Set_Point</th>\n",
       "      <th>Unit_Consumed</th>\n",
       "      <th>Operating_Hrs</th>\n",
       "      <th>Load_percentage</th>\n",
       "    </tr>\n",
       "  </thead>\n",
       "  <tbody>\n",
       "    <tr>\n",
       "      <td>0</td>\n",
       "      <td>01-Apr-17</td>\n",
       "      <td>NaN</td>\n",
       "      <td>NaN</td>\n",
       "      <td>NaN</td>\n",
       "      <td>300.0</td>\n",
       "      <td>0.00</td>\n",
       "      <td>NaN</td>\n",
       "    </tr>\n",
       "    <tr>\n",
       "      <td>1</td>\n",
       "      <td>02-Apr-17</td>\n",
       "      <td>NaN</td>\n",
       "      <td>NaN</td>\n",
       "      <td>NaN</td>\n",
       "      <td>100.0</td>\n",
       "      <td>0.00</td>\n",
       "      <td>NaN</td>\n",
       "    </tr>\n",
       "    <tr>\n",
       "      <td>2</td>\n",
       "      <td>03-Apr-17</td>\n",
       "      <td>NaN</td>\n",
       "      <td>NaN</td>\n",
       "      <td>NaN</td>\n",
       "      <td>100.0</td>\n",
       "      <td>0.00</td>\n",
       "      <td>NaN</td>\n",
       "    </tr>\n",
       "    <tr>\n",
       "      <td>3</td>\n",
       "      <td>04-Apr-17</td>\n",
       "      <td>17</td>\n",
       "      <td>12.5</td>\n",
       "      <td>10.0</td>\n",
       "      <td>2000.0</td>\n",
       "      <td>11.09</td>\n",
       "      <td>97</td>\n",
       "    </tr>\n",
       "    <tr>\n",
       "      <td>4</td>\n",
       "      <td>05-Apr-17</td>\n",
       "      <td>12.4</td>\n",
       "      <td>13.7</td>\n",
       "      <td>10.0</td>\n",
       "      <td>500.0</td>\n",
       "      <td>2.84</td>\n",
       "      <td>95</td>\n",
       "    </tr>\n",
       "  </tbody>\n",
       "</table>\n",
       "</div>"
      ],
      "text/plain": [
       "        Date  Inlet Outlet  Set_Point  Unit_Consumed  Operating_Hrs  \\\n",
       "0  01-Apr-17    NaN    NaN        NaN          300.0           0.00   \n",
       "1  02-Apr-17    NaN    NaN        NaN          100.0           0.00   \n",
       "2  03-Apr-17    NaN    NaN        NaN          100.0           0.00   \n",
       "3  04-Apr-17     17   12.5       10.0         2000.0          11.09   \n",
       "4  05-Apr-17   12.4   13.7       10.0          500.0           2.84   \n",
       "\n",
       "  Load_percentage  \n",
       "0             NaN  \n",
       "1             NaN  \n",
       "2             NaN  \n",
       "3              97  \n",
       "4              95  "
      ]
     },
     "execution_count": 2,
     "metadata": {},
     "output_type": "execute_result"
    }
   ],
   "source": [
    "dataframe = pd.read_csv(\"Chiller_1_17_19.csv\")\n",
    "dataframe.head()"
   ]
  },
  {
   "cell_type": "code",
   "execution_count": 3,
   "metadata": {},
   "outputs": [],
   "source": [
    "def split_train_test(data , test_ratio):\n",
    "    np.random.seed(42)\n",
    "    shuffled_indices = np.random.permutation(len(data))\n",
    "    test_indices = shuffled_indices[:int(len(data)* test_ratio)]\n",
    "    train_indices = shuffled_indices[int(len(data)* test_ratio):]\n",
    "    return data.iloc[train_indices] , data.iloc[test_indices]\n"
   ]
  },
  {
   "cell_type": "code",
   "execution_count": 4,
   "metadata": {},
   "outputs": [
    {
     "name": "stdout",
     "output_type": "stream",
     "text": [
      "<class 'pandas.core.frame.DataFrame'>\n",
      "RangeIndex: 913 entries, 0 to 912\n",
      "Data columns (total 7 columns):\n",
      "Date               913 non-null object\n",
      " Inlet             473 non-null object\n",
      "Outlet             473 non-null object\n",
      "Set_Point          470 non-null float64\n",
      "Unit_Consumed      913 non-null float64\n",
      "Operating_Hrs      913 non-null float64\n",
      "Load_percentage    473 non-null object\n",
      "dtypes: float64(3), object(4)\n",
      "memory usage: 50.1+ KB\n"
     ]
    }
   ],
   "source": [
    "dataframe.info()"
   ]
  },
  {
   "cell_type": "code",
   "execution_count": 5,
   "metadata": {},
   "outputs": [
    {
     "name": "stdout",
     "output_type": "stream",
     "text": [
      "<class 'pandas.core.frame.DataFrame'>\n",
      "Int64Index: 470 entries, 3 to 912\n",
      "Data columns (total 7 columns):\n",
      "Date               470 non-null object\n",
      " Inlet             470 non-null object\n",
      "Outlet             470 non-null object\n",
      "Set_Point          470 non-null float64\n",
      "Unit_Consumed      470 non-null float64\n",
      "Operating_Hrs      470 non-null float64\n",
      "Load_percentage    470 non-null object\n",
      "dtypes: float64(3), object(4)\n",
      "memory usage: 29.4+ KB\n"
     ]
    }
   ],
   "source": [
    "dataframe.columns\n",
    "dataframe.dropna(inplace=True)\n",
    "dataframe.head()\n",
    "dataframe.info()"
   ]
  },
  {
   "cell_type": "code",
   "execution_count": null,
   "metadata": {},
   "outputs": [],
   "source": []
  },
  {
   "cell_type": "markdown",
   "metadata": {},
   "source": [
    "# Preprocessing unit"
   ]
  },
  {
   "cell_type": "code",
   "execution_count": 6,
   "metadata": {},
   "outputs": [],
   "source": [
    "train_set , test_set = split_train_test(dataframe , 0.2)"
   ]
  },
  {
   "cell_type": "code",
   "execution_count": 7,
   "metadata": {},
   "outputs": [
    {
     "name": "stderr",
     "output_type": "stream",
     "text": [
      "c:\\users\\shubh\\appdata\\local\\programs\\python\\python37\\lib\\site-packages\\ipykernel_launcher.py:1: SettingWithCopyWarning: \n",
      "A value is trying to be set on a copy of a slice from a DataFrame.\n",
      "Try using .loc[row_indexer,col_indexer] = value instead\n",
      "\n",
      "See the caveats in the documentation: http://pandas.pydata.org/pandas-docs/stable/user_guide/indexing.html#returning-a-view-versus-a-copy\n",
      "  \"\"\"Entry point for launching an IPython kernel.\n",
      "c:\\users\\shubh\\appdata\\local\\programs\\python\\python37\\lib\\site-packages\\ipykernel_launcher.py:2: SettingWithCopyWarning: \n",
      "A value is trying to be set on a copy of a slice from a DataFrame.\n",
      "Try using .loc[row_indexer,col_indexer] = value instead\n",
      "\n",
      "See the caveats in the documentation: http://pandas.pydata.org/pandas-docs/stable/user_guide/indexing.html#returning-a-view-versus-a-copy\n",
      "  \n",
      "c:\\users\\shubh\\appdata\\local\\programs\\python\\python37\\lib\\site-packages\\ipykernel_launcher.py:3: SettingWithCopyWarning: \n",
      "A value is trying to be set on a copy of a slice from a DataFrame.\n",
      "Try using .loc[row_indexer,col_indexer] = value instead\n",
      "\n",
      "See the caveats in the documentation: http://pandas.pydata.org/pandas-docs/stable/user_guide/indexing.html#returning-a-view-versus-a-copy\n",
      "  This is separate from the ipykernel package so we can avoid doing imports until\n",
      "c:\\users\\shubh\\appdata\\local\\programs\\python\\python37\\lib\\site-packages\\ipykernel_launcher.py:4: SettingWithCopyWarning: \n",
      "A value is trying to be set on a copy of a slice from a DataFrame.\n",
      "Try using .loc[row_indexer,col_indexer] = value instead\n",
      "\n",
      "See the caveats in the documentation: http://pandas.pydata.org/pandas-docs/stable/user_guide/indexing.html#returning-a-view-versus-a-copy\n",
      "  after removing the cwd from sys.path.\n",
      "c:\\users\\shubh\\appdata\\local\\programs\\python\\python37\\lib\\site-packages\\ipykernel_launcher.py:5: SettingWithCopyWarning: \n",
      "A value is trying to be set on a copy of a slice from a DataFrame.\n",
      "Try using .loc[row_indexer,col_indexer] = value instead\n",
      "\n",
      "See the caveats in the documentation: http://pandas.pydata.org/pandas-docs/stable/user_guide/indexing.html#returning-a-view-versus-a-copy\n",
      "  \"\"\"\n",
      "c:\\users\\shubh\\appdata\\local\\programs\\python\\python37\\lib\\site-packages\\ipykernel_launcher.py:6: SettingWithCopyWarning: \n",
      "A value is trying to be set on a copy of a slice from a DataFrame.\n",
      "Try using .loc[row_indexer,col_indexer] = value instead\n",
      "\n",
      "See the caveats in the documentation: http://pandas.pydata.org/pandas-docs/stable/user_guide/indexing.html#returning-a-view-versus-a-copy\n",
      "  \n",
      "c:\\users\\shubh\\appdata\\local\\programs\\python\\python37\\lib\\site-packages\\ipykernel_launcher.py:7: SettingWithCopyWarning: \n",
      "A value is trying to be set on a copy of a slice from a DataFrame.\n",
      "Try using .loc[row_indexer,col_indexer] = value instead\n",
      "\n",
      "See the caveats in the documentation: http://pandas.pydata.org/pandas-docs/stable/user_guide/indexing.html#returning-a-view-versus-a-copy\n",
      "  import sys\n",
      "c:\\users\\shubh\\appdata\\local\\programs\\python\\python37\\lib\\site-packages\\ipykernel_launcher.py:8: SettingWithCopyWarning: \n",
      "A value is trying to be set on a copy of a slice from a DataFrame.\n",
      "Try using .loc[row_indexer,col_indexer] = value instead\n",
      "\n",
      "See the caveats in the documentation: http://pandas.pydata.org/pandas-docs/stable/user_guide/indexing.html#returning-a-view-versus-a-copy\n",
      "  \n"
     ]
    }
   ],
   "source": [
    "train_set[\"Date\"] = pd.to_datetime(train_set[\"Date\"])\n",
    "test_set[\"Date\"] = pd.to_datetime(test_set[\"Date\"])\n",
    "train_set[\"month\"] = train_set[\"Date\"].dt.month\n",
    "test_set[\"month\"] = test_set[\"Date\"].dt.month \n",
    "train_set[\"year\"] = train_set[\"Date\"].dt.year\n",
    "test_set[\"year\"] = test_set[\"Date\"].dt.year \n",
    "train_set[\"day\"] = train_set[\"Date\"].dt.day\n",
    "test_set[\"day\"] = test_set[\"Date\"].dt.day"
   ]
  },
  {
   "cell_type": "code",
   "execution_count": 8,
   "metadata": {},
   "outputs": [
    {
     "data": {
      "text/html": [
       "<div>\n",
       "<style scoped>\n",
       "    .dataframe tbody tr th:only-of-type {\n",
       "        vertical-align: middle;\n",
       "    }\n",
       "\n",
       "    .dataframe tbody tr th {\n",
       "        vertical-align: top;\n",
       "    }\n",
       "\n",
       "    .dataframe thead th {\n",
       "        text-align: right;\n",
       "    }\n",
       "</style>\n",
       "<table border=\"1\" class=\"dataframe\">\n",
       "  <thead>\n",
       "    <tr style=\"text-align: right;\">\n",
       "      <th></th>\n",
       "      <th>Date</th>\n",
       "      <th>Inlet</th>\n",
       "      <th>Outlet</th>\n",
       "      <th>Set_Point</th>\n",
       "      <th>Unit_Consumed</th>\n",
       "      <th>Operating_Hrs</th>\n",
       "      <th>Load_percentage</th>\n",
       "      <th>month</th>\n",
       "      <th>year</th>\n",
       "      <th>day</th>\n",
       "    </tr>\n",
       "  </thead>\n",
       "  <tbody>\n",
       "    <tr>\n",
       "      <td>856</td>\n",
       "      <td>2019-08-05</td>\n",
       "      <td>18</td>\n",
       "      <td>13.5</td>\n",
       "      <td>8.0</td>\n",
       "      <td>4800.0</td>\n",
       "      <td>24.02</td>\n",
       "      <td>98</td>\n",
       "      <td>8</td>\n",
       "      <td>2019</td>\n",
       "      <td>5</td>\n",
       "    </tr>\n",
       "    <tr>\n",
       "      <td>566</td>\n",
       "      <td>2018-10-19</td>\n",
       "      <td>16.4</td>\n",
       "      <td>12.3</td>\n",
       "      <td>10.0</td>\n",
       "      <td>1460.0</td>\n",
       "      <td>7.40</td>\n",
       "      <td>97</td>\n",
       "      <td>10</td>\n",
       "      <td>2018</td>\n",
       "      <td>19</td>\n",
       "    </tr>\n",
       "    <tr>\n",
       "      <td>34</td>\n",
       "      <td>2017-05-05</td>\n",
       "      <td>18.4</td>\n",
       "      <td>15</td>\n",
       "      <td>10.0</td>\n",
       "      <td>1900.0</td>\n",
       "      <td>8.87</td>\n",
       "      <td>97</td>\n",
       "      <td>5</td>\n",
       "      <td>2017</td>\n",
       "      <td>5</td>\n",
       "    </tr>\n",
       "    <tr>\n",
       "      <td>570</td>\n",
       "      <td>2018-10-23</td>\n",
       "      <td>16.9</td>\n",
       "      <td>12.8</td>\n",
       "      <td>10.0</td>\n",
       "      <td>1670.0</td>\n",
       "      <td>8.44</td>\n",
       "      <td>96</td>\n",
       "      <td>10</td>\n",
       "      <td>2018</td>\n",
       "      <td>23</td>\n",
       "    </tr>\n",
       "    <tr>\n",
       "      <td>63</td>\n",
       "      <td>2017-06-03</td>\n",
       "      <td>17.1</td>\n",
       "      <td>12</td>\n",
       "      <td>10.0</td>\n",
       "      <td>2554.0</td>\n",
       "      <td>11.81</td>\n",
       "      <td>96</td>\n",
       "      <td>6</td>\n",
       "      <td>2017</td>\n",
       "      <td>3</td>\n",
       "    </tr>\n",
       "  </tbody>\n",
       "</table>\n",
       "</div>"
      ],
      "text/plain": [
       "          Date  Inlet Outlet  Set_Point  Unit_Consumed  Operating_Hrs  \\\n",
       "856 2019-08-05     18   13.5        8.0         4800.0          24.02   \n",
       "566 2018-10-19   16.4   12.3       10.0         1460.0           7.40   \n",
       "34  2017-05-05   18.4     15       10.0         1900.0           8.87   \n",
       "570 2018-10-23   16.9   12.8       10.0         1670.0           8.44   \n",
       "63  2017-06-03   17.1     12       10.0         2554.0          11.81   \n",
       "\n",
       "    Load_percentage  month  year  day  \n",
       "856              98      8  2019    5  \n",
       "566              97     10  2018   19  \n",
       "34               97      5  2017    5  \n",
       "570              96     10  2018   23  \n",
       "63               96      6  2017    3  "
      ]
     },
     "execution_count": 8,
     "metadata": {},
     "output_type": "execute_result"
    }
   ],
   "source": [
    "train_set.head()"
   ]
  },
  {
   "cell_type": "code",
   "execution_count": 9,
   "metadata": {},
   "outputs": [],
   "source": [
    "class DataFrameSelector(BaseEstimator , TransformerMixin):\n",
    "    def __init__(self , attributes_name):\n",
    "        self.attributes_name = attributes_name\n",
    "    def fit(self , X ,y=None):\n",
    "        return self\n",
    "    def transform(self , X):\n",
    "        return X[self.attributes_name].values"
   ]
  },
  {
   "cell_type": "code",
   "execution_count": 10,
   "metadata": {},
   "outputs": [],
   "source": [
    "num_classes = [\"month\" , \"year\" , \"day\" , \"Load_percentage\"  ,\"Operating_Hrs\" ,\"Set_Point\" ,\"Outlet\" ,\" Inlet\" ]\n",
    "labels = [\"Unit_Consumed\"]"
   ]
  },
  {
   "cell_type": "code",
   "execution_count": 11,
   "metadata": {},
   "outputs": [
    {
     "name": "stderr",
     "output_type": "stream",
     "text": [
      "c:\\users\\shubh\\appdata\\local\\programs\\python\\python37\\lib\\site-packages\\sklearn\\utils\\deprecation.py:66: DeprecationWarning: Class Imputer is deprecated; Imputer was deprecated in version 0.20 and will be removed in 0.22. Import impute.SimpleImputer from sklearn instead.\n",
      "  warnings.warn(msg, category=DeprecationWarning)\n"
     ]
    }
   ],
   "source": [
    "num_pipeline_new = Pipeline([(\"selector\" , DataFrameSelector(num_classes)),\n",
    "                             (\"imputer\" , Imputer(strategy= \"median\")),\n",
    "                            (\"std_scalar\" , StandardScaler() )])"
   ]
  },
  {
   "cell_type": "code",
   "execution_count": 12,
   "metadata": {},
   "outputs": [],
   "source": [
    "full_pipeline = FeatureUnion(transformer_list=[(\"num_pipeline\" , num_pipeline_new)])"
   ]
  },
  {
   "cell_type": "code",
   "execution_count": 13,
   "metadata": {},
   "outputs": [
    {
     "data": {
      "text/html": [
       "<div>\n",
       "<style scoped>\n",
       "    .dataframe tbody tr th:only-of-type {\n",
       "        vertical-align: middle;\n",
       "    }\n",
       "\n",
       "    .dataframe tbody tr th {\n",
       "        vertical-align: top;\n",
       "    }\n",
       "\n",
       "    .dataframe thead th {\n",
       "        text-align: right;\n",
       "    }\n",
       "</style>\n",
       "<table border=\"1\" class=\"dataframe\">\n",
       "  <thead>\n",
       "    <tr style=\"text-align: right;\">\n",
       "      <th></th>\n",
       "      <th>Inlet</th>\n",
       "      <th>Outlet</th>\n",
       "      <th>Set_Point</th>\n",
       "      <th>Operating_Hrs</th>\n",
       "      <th>Load_percentage</th>\n",
       "      <th>month</th>\n",
       "      <th>year</th>\n",
       "      <th>day</th>\n",
       "    </tr>\n",
       "  </thead>\n",
       "  <tbody>\n",
       "    <tr>\n",
       "      <td>856</td>\n",
       "      <td>18</td>\n",
       "      <td>13.5</td>\n",
       "      <td>8.0</td>\n",
       "      <td>24.02</td>\n",
       "      <td>98</td>\n",
       "      <td>8</td>\n",
       "      <td>2019</td>\n",
       "      <td>5</td>\n",
       "    </tr>\n",
       "    <tr>\n",
       "      <td>566</td>\n",
       "      <td>16.4</td>\n",
       "      <td>12.3</td>\n",
       "      <td>10.0</td>\n",
       "      <td>7.40</td>\n",
       "      <td>97</td>\n",
       "      <td>10</td>\n",
       "      <td>2018</td>\n",
       "      <td>19</td>\n",
       "    </tr>\n",
       "    <tr>\n",
       "      <td>34</td>\n",
       "      <td>18.4</td>\n",
       "      <td>15</td>\n",
       "      <td>10.0</td>\n",
       "      <td>8.87</td>\n",
       "      <td>97</td>\n",
       "      <td>5</td>\n",
       "      <td>2017</td>\n",
       "      <td>5</td>\n",
       "    </tr>\n",
       "    <tr>\n",
       "      <td>570</td>\n",
       "      <td>16.9</td>\n",
       "      <td>12.8</td>\n",
       "      <td>10.0</td>\n",
       "      <td>8.44</td>\n",
       "      <td>96</td>\n",
       "      <td>10</td>\n",
       "      <td>2018</td>\n",
       "      <td>23</td>\n",
       "    </tr>\n",
       "    <tr>\n",
       "      <td>63</td>\n",
       "      <td>17.1</td>\n",
       "      <td>12</td>\n",
       "      <td>10.0</td>\n",
       "      <td>11.81</td>\n",
       "      <td>96</td>\n",
       "      <td>6</td>\n",
       "      <td>2017</td>\n",
       "      <td>3</td>\n",
       "    </tr>\n",
       "  </tbody>\n",
       "</table>\n",
       "</div>"
      ],
      "text/plain": [
       "     Inlet Outlet  Set_Point  Operating_Hrs Load_percentage  month  year  day\n",
       "856     18   13.5        8.0          24.02              98      8  2019    5\n",
       "566   16.4   12.3       10.0           7.40              97     10  2018   19\n",
       "34    18.4     15       10.0           8.87              97      5  2017    5\n",
       "570   16.9   12.8       10.0           8.44              96     10  2018   23\n",
       "63    17.1     12       10.0          11.81              96      6  2017    3"
      ]
     },
     "execution_count": 13,
     "metadata": {},
     "output_type": "execute_result"
    }
   ],
   "source": [
    "train_features = train_set.drop([\"Unit_Consumed\" , \"Date\"] , axis =1)\n",
    "test_features = test_set.drop([\"Unit_Consumed\", \"Date\"] , axis =1)\n",
    "train_features.head()"
   ]
  },
  {
   "cell_type": "code",
   "execution_count": 14,
   "metadata": {},
   "outputs": [],
   "source": [
    "train_prepared  = full_pipeline.fit_transform(train_features)\n",
    "test_prepared = full_pipeline.fit_transform(test_features)"
   ]
  },
  {
   "cell_type": "code",
   "execution_count": 15,
   "metadata": {},
   "outputs": [
    {
     "data": {
      "text/plain": [
       "(376, 8)"
      ]
     },
     "execution_count": 15,
     "metadata": {},
     "output_type": "execute_result"
    }
   ],
   "source": [
    "train_prepared.shape"
   ]
  },
  {
   "cell_type": "code",
   "execution_count": null,
   "metadata": {},
   "outputs": [],
   "source": []
  },
  {
   "cell_type": "code",
   "execution_count": 16,
   "metadata": {},
   "outputs": [],
   "source": [
    "train_labels = train_set[\"Unit_Consumed\"].copy()\n",
    "train_labels = np.array(train_labels)\n",
    "test_labels = test_set[\"Unit_Consumed\"].copy()\n",
    "test_labels = np.array(test_labels)"
   ]
  },
  {
   "cell_type": "markdown",
   "metadata": {},
   "source": [
    "# Model Fitting"
   ]
  },
  {
   "cell_type": "code",
   "execution_count": 17,
   "metadata": {},
   "outputs": [],
   "source": [
    "lin_reg = LinearRegression()"
   ]
  },
  {
   "cell_type": "code",
   "execution_count": 18,
   "metadata": {},
   "outputs": [
    {
     "data": {
      "text/plain": [
       "340.77324809830475"
      ]
     },
     "execution_count": 18,
     "metadata": {},
     "output_type": "execute_result"
    }
   ],
   "source": [
    "lin_reg.fit(train_prepared , train_labels)\n",
    "lin_predictions  = lin_reg.predict(test_prepared)\n",
    "lin_mse = mean_squared_error(test_labels , lin_predictions)\n",
    "\n",
    "lin_rmse = np.sqrt(lin_mse)\n",
    "lin_rmse"
   ]
  },
  {
   "cell_type": "markdown",
   "metadata": {},
   "source": [
    "# Neural net"
   ]
  },
  {
   "cell_type": "code",
   "execution_count": 56,
   "metadata": {},
   "outputs": [],
   "source": [
    "model = Sequential()\n",
    "\n"
   ]
  },
  {
   "cell_type": "code",
   "execution_count": 57,
   "metadata": {},
   "outputs": [
    {
     "name": "stdout",
     "output_type": "stream",
     "text": [
      "WARNING:tensorflow:From c:\\users\\shubh\\appdata\\local\\programs\\python\\python37\\lib\\site-packages\\tensorflow\\python\\ops\\init_ops.py:1251: calling VarianceScaling.__init__ (from tensorflow.python.ops.init_ops) with dtype is deprecated and will be removed in a future version.\n",
      "Instructions for updating:\n",
      "Call initializer instance with the dtype argument instead of passing it to the constructor\n",
      "WARNING:tensorflow:From c:\\users\\shubh\\appdata\\local\\programs\\python\\python37\\lib\\site-packages\\tensorflow\\python\\keras\\initializers.py:143: calling RandomNormal.__init__ (from tensorflow.python.ops.init_ops) with dtype is deprecated and will be removed in a future version.\n",
      "Instructions for updating:\n",
      "Call initializer instance with the dtype argument instead of passing it to the constructor\n"
     ]
    }
   ],
   "source": [
    "model.add(Dense(train_prepared.shape[1]))\n",
    "model.add(Dense(8))\n",
    "model.add(Activation('relu'))\n",
    "model.add(Dropout(0.5))\n",
    "model.add(Dense(16))\n",
    "model.add(Activation('relu'))\n",
    "model.add(Dropout(0.5))\n",
    "model.add(Dense(8))\n",
    "model.add(Dense(1 , kernel_initializer='normal',activation='linear'))\n",
    "model.compile(loss= \"binary_crossentropy\" ,\n",
    "             optimizer= \"adam\",\n",
    "             metrics= [tf.keras.metrics.RootMeanSquaredError(name='rmse')], \n",
    "             )"
   ]
  },
  {
   "cell_type": "code",
   "execution_count": 58,
   "metadata": {},
   "outputs": [
    {
     "name": "stdout",
     "output_type": "stream",
     "text": [
      "Train on 338 samples, validate on 38 samples\n",
      "WARNING:tensorflow:From c:\\users\\shubh\\appdata\\local\\programs\\python\\python37\\lib\\site-packages\\tensorflow\\python\\ops\\math_grad.py:1250: add_dispatch_support.<locals>.wrapper (from tensorflow.python.ops.array_ops) is deprecated and will be removed in a future version.\n",
      "Instructions for updating:\n",
      "Use tf.where in 2.0, which has the same broadcast rule as np.where\n",
      "Epoch 1/3\n",
      "338/338 [==============================] - 0s 1ms/sample - loss: 30864.2022 - rmse: 3765.9548 - val_loss: 18587.3385 - val_rmse: 3585.7954\n",
      "Epoch 2/3\n",
      "338/338 [==============================] - 0s 130us/sample - loss: 19774.4389 - rmse: 3765.9290 - val_loss: 10055.5278 - val_rmse: 3585.7722\n",
      "Epoch 3/3\n",
      "338/338 [==============================] - 0s 130us/sample - loss: 13472.1358 - rmse: 3765.9055 - val_loss: 8467.6824 - val_rmse: 3585.7502\n"
     ]
    },
    {
     "data": {
      "text/plain": [
       "<tensorflow.python.keras.callbacks.History at 0x183c8089d48>"
      ]
     },
     "execution_count": 58,
     "metadata": {},
     "output_type": "execute_result"
    }
   ],
   "source": [
    "model.fit(train_prepared , train_labels ,validation_split=0.1 , epochs=3 )"
   ]
  },
  {
   "cell_type": "markdown",
   "metadata": {},
   "source": [
    "# Random Forest"
   ]
  },
  {
   "cell_type": "code",
   "execution_count": 19,
   "metadata": {},
   "outputs": [
    {
     "name": "stderr",
     "output_type": "stream",
     "text": [
      "c:\\users\\shubh\\appdata\\local\\programs\\python\\python37\\lib\\site-packages\\sklearn\\ensemble\\forest.py:245: FutureWarning: The default value of n_estimators will change from 10 in version 0.20 to 100 in 0.22.\n",
      "  \"10 in version 0.20 to 100 in 0.22.\", FutureWarning)\n"
     ]
    },
    {
     "data": {
      "text/plain": [
       "RandomForestRegressor(bootstrap=True, criterion='mse', max_depth=None,\n",
       "                      max_features='auto', max_leaf_nodes=None,\n",
       "                      min_impurity_decrease=0.0, min_impurity_split=None,\n",
       "                      min_samples_leaf=1, min_samples_split=2,\n",
       "                      min_weight_fraction_leaf=0.0, n_estimators=10,\n",
       "                      n_jobs=None, oob_score=False, random_state=None,\n",
       "                      verbose=0, warm_start=False)"
      ]
     },
     "execution_count": 19,
     "metadata": {},
     "output_type": "execute_result"
    }
   ],
   "source": [
    "\n",
    "new_model = RandomForestRegressor()\n",
    "new_model.fit(train_prepared , train_labels)"
   ]
  },
  {
   "cell_type": "code",
   "execution_count": 20,
   "metadata": {},
   "outputs": [
    {
     "data": {
      "text/plain": [
       "362.26163646141464"
      ]
     },
     "execution_count": 20,
     "metadata": {},
     "output_type": "execute_result"
    }
   ],
   "source": [
    "pred_random = new_model.predict(test_prepared)\n",
    "random_mse = mean_squared_error(pred_random , test_labels)\n",
    "rmse_ran = np.sqrt(random_mse)\n",
    "rmse_ran"
   ]
  },
  {
   "cell_type": "markdown",
   "metadata": {},
   "source": [
    "# Grid search cv\n"
   ]
  },
  {
   "cell_type": "code",
   "execution_count": 21,
   "metadata": {},
   "outputs": [
    {
     "name": "stderr",
     "output_type": "stream",
     "text": [
      "c:\\users\\shubh\\appdata\\local\\programs\\python\\python37\\lib\\site-packages\\sklearn\\model_selection\\_search.py:814: DeprecationWarning: The default of the `iid` parameter will change from True to False in version 0.22 and will be removed in 0.24. This will change numeric results when test-set sizes are unequal.\n",
      "  DeprecationWarning)\n"
     ]
    },
    {
     "data": {
      "text/plain": [
       "GridSearchCV(cv=5, error_score='raise-deprecating',\n",
       "             estimator=RandomForestRegressor(bootstrap=True, criterion='mse',\n",
       "                                             max_depth=None,\n",
       "                                             max_features='auto',\n",
       "                                             max_leaf_nodes=None,\n",
       "                                             min_impurity_decrease=0.0,\n",
       "                                             min_impurity_split=None,\n",
       "                                             min_samples_leaf=1,\n",
       "                                             min_samples_split=2,\n",
       "                                             min_weight_fraction_leaf=0.0,\n",
       "                                             n_estimators='warn', n_jobs=None,\n",
       "                                             oob_score=False, random_state=None,\n",
       "                                             verbose=0, warm_start=False),\n",
       "             iid='warn', n_jobs=None,\n",
       "             param_grid=[{'max_features': [2, 4, 6, 8],\n",
       "                          'n_estimators': [3, 10, 30]},\n",
       "                         {'bootstrap': [False], 'max_features': [2, 3, 4],\n",
       "                          'n_estimators': [3, 10]}],\n",
       "             pre_dispatch='2*n_jobs', refit=True, return_train_score=False,\n",
       "             scoring='neg_mean_squared_error', verbose=0)"
      ]
     },
     "execution_count": 21,
     "metadata": {},
     "output_type": "execute_result"
    }
   ],
   "source": [
    "forest_reg_new = RandomForestRegressor()\n",
    "\n",
    "param_grid = [{ \"n_estimators\" : [3,10,30]  , \"max_features\" : [2,4,6,8]} , \n",
    "               {\"bootstrap\" : [False] , \"n_estimators\" : [3,10] , \"max_features\" : [2,3,4]}]\n",
    "grid_search = GridSearchCV(forest_reg_new , param_grid , cv=5 , scoring= \"neg_mean_squared_error\")\n",
    "\n",
    "grid_search.fit(train_prepared , train_labels)"
   ]
  },
  {
   "cell_type": "code",
   "execution_count": 22,
   "metadata": {},
   "outputs": [
    {
     "data": {
      "text/plain": [
       "{'max_features': 6, 'n_estimators': 30}"
      ]
     },
     "execution_count": 22,
     "metadata": {},
     "output_type": "execute_result"
    }
   ],
   "source": [
    "grid_search.best_params_"
   ]
  },
  {
   "cell_type": "code",
   "execution_count": 23,
   "metadata": {},
   "outputs": [
    {
     "name": "stdout",
     "output_type": "stream",
     "text": [
      "632.7670657029314 {'max_features': 2, 'n_estimators': 3}\n",
      "506.7650071973853 {'max_features': 2, 'n_estimators': 10}\n",
      "451.80585401453294 {'max_features': 2, 'n_estimators': 30}\n",
      "460.49253123725634 {'max_features': 4, 'n_estimators': 3}\n",
      "348.09343004027255 {'max_features': 4, 'n_estimators': 10}\n",
      "352.55321451552936 {'max_features': 4, 'n_estimators': 30}\n",
      "382.56417999515645 {'max_features': 6, 'n_estimators': 3}\n",
      "339.5922352982339 {'max_features': 6, 'n_estimators': 10}\n",
      "330.0571271934957 {'max_features': 6, 'n_estimators': 30}\n",
      "428.04196901838344 {'max_features': 8, 'n_estimators': 3}\n",
      "347.5883737548824 {'max_features': 8, 'n_estimators': 10}\n",
      "351.5242918614566 {'max_features': 8, 'n_estimators': 30}\n",
      "497.2978790540958 {'bootstrap': False, 'max_features': 2, 'n_estimators': 3}\n",
      "462.45964521391807 {'bootstrap': False, 'max_features': 2, 'n_estimators': 10}\n",
      "484.96413570365627 {'bootstrap': False, 'max_features': 3, 'n_estimators': 3}\n",
      "405.24892772096183 {'bootstrap': False, 'max_features': 3, 'n_estimators': 10}\n",
      "409.9789240750034 {'bootstrap': False, 'max_features': 4, 'n_estimators': 3}\n",
      "352.84044159170253 {'bootstrap': False, 'max_features': 4, 'n_estimators': 10}\n"
     ]
    }
   ],
   "source": [
    "cvres = grid_search.cv_results_\n",
    "\n",
    "for mean_score , parameters in zip(cvres[\"mean_test_score\"] , cvres[\"params\"]):\n",
    "    print(np.sqrt(-mean_score) , parameters)"
   ]
  },
  {
   "cell_type": "code",
   "execution_count": 24,
   "metadata": {},
   "outputs": [
    {
     "data": {
      "text/plain": [
       "4"
      ]
     },
     "execution_count": 24,
     "metadata": {},
     "output_type": "execute_result"
    }
   ],
   "source": [
    "feature_importance = grid_search.best_estimator_.feature_importances_\n",
    "feature_importance.argmax()"
   ]
  },
  {
   "cell_type": "code",
   "execution_count": 25,
   "metadata": {},
   "outputs": [],
   "source": [
    "final_model = grid_search.best_estimator_"
   ]
  },
  {
   "cell_type": "code",
   "execution_count": null,
   "metadata": {},
   "outputs": [],
   "source": []
  },
  {
   "cell_type": "code",
   "execution_count": null,
   "metadata": {},
   "outputs": [],
   "source": []
  },
  {
   "cell_type": "markdown",
   "metadata": {},
   "source": [
    "# Ensemble learning"
   ]
  },
  {
   "cell_type": "code",
   "execution_count": 26,
   "metadata": {},
   "outputs": [],
   "source": [
    "# coulndt find solutions "
   ]
  },
  {
   "cell_type": "markdown",
   "metadata": {},
   "source": [
    "# Prediction area"
   ]
  },
  {
   "cell_type": "code",
   "execution_count": 27,
   "metadata": {},
   "outputs": [],
   "source": [
    "# take a model and use model.predict and give the input in the order of this\n",
    "# num_classes = [\"month\" , \"year\" , \"day\" , \"Load_percentage\"  ,\"Operating_Hrs\" ,\"Set_Point\" ,\"Outlet\" ,\" Inlet\" ]\n",
    "\n",
    "# if u want to predict other stuff use the pipeline to preprocess the input\n",
    "# before feeding"
   ]
  },
  {
   "cell_type": "code",
   "execution_count": 95,
   "metadata": {},
   "outputs": [],
   "source": [
    "# input parameters for feeding\n",
    "def prepro_pred(month , year,day,Load_percentage ,Operating_Hrs,Set_Point ,Outlet,Inlet, model):\n",
    "    num_classes = [\"month\" , \"year\" , \"day\" , \"Load_percentage\"  ,\"Operating_Hrs\" ,\"Set_Point\" ,\"Outlet\" ,\" Inlet\" ]\n",
    "    \n",
    "    \n",
    "    tset = pd.DataFrame(columns =num_classes)\n",
    "    tset[\"month\"] = [month]\n",
    "    tset[\"year\"] = [year]\n",
    "    tset[\"day\"] =[day]\n",
    "    tset[\"Load_percentage\"] =[Load_percentage]\n",
    "    tset[\"Operating_Hrs\"] =[Operating_Hrs]\n",
    "    tset[\"Set_Point\"] =[Set_Point]\n",
    "    tset[\"Outlet\"] =[Outlet]\n",
    "    tset[\" Inlet\"] =[Inlet]\n",
    "    \n",
    "    \n",
    "\n",
    "    num_pipeline_new = Pipeline([(\"selector\" , DataFrameSelector(num_classes)),\n",
    "                             \n",
    "                            (\"std_scalar\" , StandardScaler() )])\n",
    "    full_pipeline = FeatureUnion(transformer_list=[(\"num_pipeline\" , num_pipeline_new)])   \n",
    "    tprepared  = full_pipeline.fit_transform(tset)\n",
    "    pred = model.predict(tprepared)\n",
    "    del(tset , tprepared)\n",
    "    return pred \n",
    "    \n",
    "\n",
    "    "
   ]
  },
  {
   "cell_type": "code",
   "execution_count": null,
   "metadata": {},
   "outputs": [],
   "source": []
  },
  {
   "cell_type": "code",
   "execution_count": 100,
   "metadata": {},
   "outputs": [],
   "source": [
    "# example prediction\n",
    "\n",
    "\n",
    "predic = prepro_pred(month=40 , year=20 ,day=32\n",
    "                         , Load_percentage=0, Operating_Hrs= 1000\n",
    "                         , Set_Point= 15, Outlet=5,Inlet=5\n",
    "                         , model= model)"
   ]
  },
  {
   "cell_type": "code",
   "execution_count": 101,
   "metadata": {},
   "outputs": [
    {
     "data": {
      "text/plain": [
       "array([[0.0360406]], dtype=float32)"
      ]
     },
     "execution_count": 101,
     "metadata": {},
     "output_type": "execute_result"
    }
   ],
   "source": [
    "predic"
   ]
  },
  {
   "cell_type": "code",
   "execution_count": 102,
   "metadata": {},
   "outputs": [
    {
     "data": {
      "text/plain": [
       "array([[0., 0., 0., 0., 0., 0., 0., 0.]])"
      ]
     },
     "execution_count": 102,
     "metadata": {},
     "output_type": "execute_result"
    }
   ],
   "source": [
    "tprep"
   ]
  },
  {
   "cell_type": "code",
   "execution_count": null,
   "metadata": {},
   "outputs": [],
   "source": []
  },
  {
   "cell_type": "code",
   "execution_count": null,
   "metadata": {},
   "outputs": [],
   "source": []
  },
  {
   "cell_type": "code",
   "execution_count": null,
   "metadata": {},
   "outputs": [],
   "source": []
  },
  {
   "cell_type": "code",
   "execution_count": null,
   "metadata": {},
   "outputs": [],
   "source": []
  }
 ],
 "metadata": {
  "kernelspec": {
   "display_name": "Python 3",
   "language": "python",
   "name": "python3"
  },
  "language_info": {
   "codemirror_mode": {
    "name": "ipython",
    "version": 3
   },
   "file_extension": ".py",
   "mimetype": "text/x-python",
   "name": "python",
   "nbconvert_exporter": "python",
   "pygments_lexer": "ipython3",
   "version": "3.7.4"
  }
 },
 "nbformat": 4,
 "nbformat_minor": 2
}
