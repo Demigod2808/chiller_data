{
  "nbformat": 4,
  "nbformat_minor": 0,
  "metadata": {
    "colab": {
      "name": "chiller_data_after_month (1).ipynb",
      "provenance": [],
      "collapsed_sections": []
    },
    "kernelspec": {
      "name": "python3",
      "display_name": "Python 3"
    },
    "accelerator": "GPU"
  },
  "cells": [
    {
      "cell_type": "code",
      "metadata": {
        "id": "EkHEgv8P0uMC",
        "colab_type": "code",
        "colab": {}
      },
      "source": [
        "import numpy as np\n",
        "import pandas as pd\n",
        "import datetime\n",
        "%matplotlib inline\n",
        "import matplotlib.pyplot as plt\n",
        "import tensorflow as tf\n",
        "from tensorflow.keras.layers import Input, Dense, GRU, Embedding\n",
        "import numpy as np\n",
        "import pandas as pd\n",
        "import os\n",
        "from sklearn.metrics import accuracy_score\n",
        "from sklearn.metrics import precision_score\n",
        "from sklearn.metrics import recall_score\n",
        "\n",
        "from sklearn.preprocessing import MinMaxScaler\n",
        "from sklearn.preprocessing import LabelEncoder\n",
        "from sklearn.metrics import mean_squared_error\n",
        "\n",
        "from tensorflow.keras.models import Sequential\n",
        "from tensorflow.keras.layers import Dense\n",
        "from tensorflow.keras.layers import LSTM\n",
        "from tensorflow.keras.optimizers import RMSprop\n",
        "from tensorflow.keras.callbacks import EarlyStopping, ModelCheckpoint, TensorBoard, ReduceLROnPlateau\n",
        "from tensorflow.keras.backend import square, mean"
      ],
      "execution_count": 0,
      "outputs": []
    },
    {
      "cell_type": "code",
      "metadata": {
        "id": "Of86YXuADEwZ",
        "colab_type": "code",
        "colab": {
          "base_uri": "https://localhost:8080/",
          "height": 1000
        },
        "outputId": "4ddbff62-f7fa-41a2-82af-e6db86472e0d"
      },
      "source": [
        "df = pd.read_csv('file_for_code.csv')\n",
        "df[\"Date\"] = pd.to_datetime(df[\"Date\"])\n",
        "df[\"month\"] = df[\"Date\"].dt.month\n",
        "df[\"year\"] = df[\"Date\"].dt.year\n",
        "df[\"day\"] = df[\"Date\"].dt.day\n",
        "df.dropna(axis=0 , inplace=True)\n",
        "np.random.seed(7)\n",
        "classes_req =  ['time', 'smd_temp', 'smd_RH', 'amb_temp', 'amb_RH', 'SMD', 'chiller_state', 'month', 'year', 'day']\n",
        "df = df[classes_req]  \n",
        "target_names = ['chiller_state']\n",
        "shift_days = 1\n",
        "shift_steps = shift_days * 2 \n",
        "df_targets = df[target_names].shift(-shift_steps)\n",
        "x_data = df.values[0:-shift_steps]\n",
        "y_data = df_targets.values[:-shift_steps]\n",
        "num_data = len(x_data)\n",
        "train_split = 0.9\n",
        "num_train = int(train_split * num_data)\n",
        "num_test = num_data - num_train\n",
        "x_train = x_data[0:num_train]\n",
        "x_test = x_data[num_train:]\n",
        "num_x_signals = x_data.shape[1]\n",
        "num_y_signals = y_data.shape[1]\n",
        "x_scaler = MinMaxScaler()\n",
        "x_train_scaled = x_scaler.fit_transform(x_train)\n",
        "x_train_scaled\n",
        "y_train = y_data[0:num_train]\n",
        "y_test = y_data[num_train:]\n",
        "y_scaler = MinMaxScaler()\n",
        "y_train_scaled = y_scaler.fit_transform(y_train)\n",
        "y_test_scaled = y_scaler.transform(y_test)\n",
        "def batch_generator(batch_size, sequence_length):\n",
        "    \"\"\"\n",
        "    Generator function for creating random batches of training-data.\n",
        "    \"\"\"\n",
        "\n",
        "    # Infinite loop.\n",
        "    while True:\n",
        "        # Allocate a new array for the batch of input-signals.\n",
        "        x_shape = (batch_size, sequence_length, num_x_signals)\n",
        "        x_batch = np.zeros(shape=x_shape, dtype=np.float16)\n",
        "\n",
        "        # Allocate a new array for the batch of output-signals.\n",
        "        y_shape = (batch_size, sequence_length, num_y_signals)\n",
        "        y_batch = np.zeros(shape=y_shape, dtype=np.float16)\n",
        "\n",
        "        # Fill the batch with random sequences of data.\n",
        "        for i in range(batch_size):\n",
        "            # Get a random start-index.\n",
        "            # This points somewhere into the training-data.\n",
        "            idx = np.random.randint(num_train - sequence_length)\n",
        "            \n",
        "            # Copy the sequences of data starting at this index.\n",
        "            x_batch[i] = x_train_scaled[idx:idx+sequence_length]\n",
        "            y_batch[i] = y_train_scaled[idx:idx+sequence_length]\n",
        "        \n",
        "        yield (x_batch, y_batch)\n",
        "batch_size = 196   \n",
        "sequence_length = 24 * 7 * 8\n",
        "generator = batch_generator(batch_size=batch_size,\n",
        "                            sequence_length=sequence_length)\n",
        "\n",
        "batch = 0   # First sequence in the batch.\n",
        "signal = 0  # First signal from the 20 input-signals.\n",
        "x_batch, y_batch = next(generator)\n",
        "seq = x_batch[batch, :, signal]\n",
        "seq = y_batch[batch, :, signal]\n",
        "seq = y_batch[batch, :, signal]\n",
        "validation_data = (np.expand_dims(x_scaler.fit_transform(x_test), axis=0),\n",
        "                   np.expand_dims(y_scaler.transform(y_test), axis=0))\n",
        "model = Sequential()\n",
        "model.add(GRU(units=512,\n",
        "              return_sequences=True,\n",
        "              input_shape=(None, num_x_signals,)))\n",
        "model.add(Dense(num_y_signals, activation='sigmoid'))\n",
        "if False:\n",
        "    from tensorflow.python.keras.initializers import RandomUniform\n",
        "\n",
        "    # Maybe use lower init-ranges.\n",
        "    init = RandomUniform(minval=-0.05, maxval=0.05)\n",
        "\n",
        "    model.add(Dense(num_y_signals,\n",
        "                    activation='linear',\n",
        "                    kernel_initializer=init))\n",
        "warmup_steps = 50  \n",
        "def loss_mse_warmup(y_true, y_pred):\n",
        "    \"\"\"\n",
        "    Calculate the Mean Squared Error between y_true and y_pred,\n",
        "    but ignore the beginning \"warmup\" part of the sequences.\n",
        "    \n",
        "    y_true is the desired output.\n",
        "    y_pred is the model's output.\n",
        "    \"\"\"\n",
        "\n",
        "    # The shape of both input tensors are:\n",
        "    # [batch_size, sequence_length, num_y_signals].\n",
        "\n",
        "    # Ignore the \"warmup\" parts of the sequences\n",
        "    # by taking slices of the tensors.\n",
        "    y_true_slice = y_true[:, warmup_steps:, :]\n",
        "    y_pred_slice = y_pred[:, warmup_steps:, :]\n",
        "\n",
        "    # These sliced tensors both have this shape:\n",
        "    # [batch_size, sequence_length - warmup_steps, num_y_signals]\n",
        "\n",
        "    # Calculat the Mean Squared Error and use it as loss.\n",
        "    mse = mean(square(y_true_slice - y_pred_slice))\n",
        "    \n",
        "    return mse  \n",
        "    \n",
        "optimizer = RMSprop(lr=1e-3)\n",
        "model.compile(loss=loss_mse_warmup, optimizer=optimizer)\n",
        "model.summary()\n",
        "path_checkpoint = 'checkpoint.keras'\n",
        "callback_checkpoint = ModelCheckpoint(filepath=path_checkpoint,\n",
        "                                      monitor='val_loss',\n",
        "                                      verbose=1,\n",
        "                                      save_weights_only=True,\n",
        "                                      save_best_only=True)\n",
        "callback_early_stopping = EarlyStopping(monitor='val_loss',\n",
        "                                        patience=5, verbose=1)\n",
        "callback_reduce_lr = ReduceLROnPlateau(monitor='val_loss',\n",
        "                                       factor=0.1,\n",
        "                                       min_lr=1e-4,\n",
        "                                       patience=0,\n",
        "                                       verbose=1)\n",
        "callbacks = [\n",
        "             callback_checkpoint,\n",
        "             callback_reduce_lr]\n",
        "model.fit(x=generator,\n",
        "          epochs=60,\n",
        "          steps_per_epoch=512,\n",
        "          validation_data=validation_data,\n",
        "          callbacks=callbacks)\n",
        "try:\n",
        "    model.load_weights(path_checkpoint)\n",
        "except Exception as error:\n",
        "    print(\"Error trying to load checkpoint.\")\n",
        "    print(error)\n",
        "result = model.evaluate(x=np.expand_dims(x_scaler.fit_transform(x_test), axis=0),\n",
        "                        y=np.expand_dims(y_scaler.transform(y_test), axis=0))\n",
        "def plot_comparison(start_idx, length=100, train=True):\n",
        "    \"\"\"\n",
        "    Plot the predicted and true output-signals.\n",
        "    \n",
        "    :param start_idx: Start-index for the time-series.\n",
        "    :param length: Sequence-length to process and plot.\n",
        "    :param train: Boolean whether to use training- or test-set.\n",
        "    \"\"\"\n",
        "    \n",
        "    if train:\n",
        "        # Use training-data.\n",
        "        x = x_train_scaled\n",
        "        y_true = y_train\n",
        "    else:\n",
        "        # Use test-data.\n",
        "        x = x_test_scaled\n",
        "        y_true = y_test\n",
        "    \n",
        "    # End-index for the sequences.\n",
        "    end_idx = start_idx + length\n",
        "    \n",
        "    # Select the sequences from the given start-index and\n",
        "    # of the given length.\n",
        "    x = x[start_idx:end_idx]\n",
        "    y_true = y_true[start_idx:end_idx]\n",
        "    \n",
        "    # Input-signals for the model.\n",
        "    x = np.expand_dims(x, axis=0)\n",
        "\n",
        "    # Use the model to predict the output-signals.\n",
        "    y_pred = model.predict(x)\n",
        "    \n",
        "    # The output of the model is between 0 and 1.\n",
        "    # Do an inverse map to get it back to the scale\n",
        "    # of the original data-set.\n",
        "    y_pred_rescaled = y_scaler.inverse_transform(y_pred[0])\n",
        "    \n",
        "    # For each output-signal.\n",
        "    for signal in range(len(target_names)):\n",
        "        # Get the output-signal predicted by the model.\n",
        "        signal_pred = y_pred_rescaled[:, signal]\n",
        "        \n",
        "        # Get the true output-signal from the data-set.\n",
        "        signal_true = y_true[:, signal]\n",
        "\n",
        "        # Make the plotting-canvas bigger.\n",
        "        plt.figure(figsize=(15,5))\n",
        "        \n",
        "        # Plot and compare the two signals.\n",
        "        plt.plot(signal_true, label='true')\n",
        "        plt.plot(signal_pred, label='pred')\n",
        "        \n",
        "        # Plot grey box for warmup-period.\n",
        "        p = plt.axvspan(0, warmup_steps, facecolor='black', alpha=0.15)\n",
        "        \n",
        "        # Plot labels etc.\n",
        "        plt.ylabel(target_names[signal])\n",
        "        plt.legend()\n",
        "        plt.show()\n",
        "    \n"
      ],
      "execution_count": 2,
      "outputs": [
        {
          "output_type": "stream",
          "text": [
            "Model: \"sequential\"\n",
            "_________________________________________________________________\n",
            "Layer (type)                 Output Shape              Param #   \n",
            "=================================================================\n",
            "gru (GRU)                    (None, None, 512)         804864    \n",
            "_________________________________________________________________\n",
            "dense (Dense)                (None, None, 1)           513       \n",
            "=================================================================\n",
            "Total params: 805,377\n",
            "Trainable params: 805,377\n",
            "Non-trainable params: 0\n",
            "_________________________________________________________________\n",
            "Epoch 1/60\n",
            "512/512 [==============================] - ETA: 0s - loss: 0.0644\n",
            "Epoch 00001: val_loss improved from inf to 0.09424, saving model to checkpoint.keras\n",
            "512/512 [==============================] - 342s 669ms/step - loss: 0.0644 - val_loss: 0.0942 - lr: 0.0010\n",
            "Epoch 2/60\n",
            "512/512 [==============================] - ETA: 0s - loss: 0.0350\n",
            "Epoch 00002: val_loss did not improve from 0.09424\n",
            "\n",
            "Epoch 00002: ReduceLROnPlateau reducing learning rate to 0.00010000000474974513.\n",
            "512/512 [==============================] - 342s 668ms/step - loss: 0.0350 - val_loss: 0.1282 - lr: 0.0010\n",
            "Epoch 3/60\n",
            "512/512 [==============================] - ETA: 0s - loss: 0.0067\n",
            "Epoch 00003: val_loss did not improve from 0.09424\n",
            "\n",
            "Epoch 00003: ReduceLROnPlateau reducing learning rate to 0.0001.\n",
            "512/512 [==============================] - 342s 668ms/step - loss: 0.0067 - val_loss: 0.1535 - lr: 1.0000e-04\n",
            "Epoch 4/60\n",
            "512/512 [==============================] - ETA: 0s - loss: 0.0043\n",
            "Epoch 00004: val_loss did not improve from 0.09424\n",
            "512/512 [==============================] - 342s 668ms/step - loss: 0.0043 - val_loss: 0.1587 - lr: 1.0000e-04\n",
            "Epoch 5/60\n",
            "512/512 [==============================] - ETA: 0s - loss: 0.0039\n",
            "Epoch 00005: val_loss did not improve from 0.09424\n",
            "512/512 [==============================] - 342s 667ms/step - loss: 0.0039 - val_loss: 0.1661 - lr: 1.0000e-04\n",
            "Epoch 6/60\n",
            "512/512 [==============================] - ETA: 0s - loss: 0.0038\n",
            "Epoch 00006: val_loss did not improve from 0.09424\n",
            "512/512 [==============================] - 342s 667ms/step - loss: 0.0038 - val_loss: 0.1612 - lr: 1.0000e-04\n",
            "Epoch 7/60\n",
            "512/512 [==============================] - ETA: 0s - loss: 0.0036\n",
            "Epoch 00007: val_loss did not improve from 0.09424\n",
            "512/512 [==============================] - 341s 667ms/step - loss: 0.0036 - val_loss: 0.1703 - lr: 1.0000e-04\n",
            "Epoch 8/60\n",
            "512/512 [==============================] - ETA: 0s - loss: 0.0035\n",
            "Epoch 00008: val_loss did not improve from 0.09424\n",
            "512/512 [==============================] - 342s 667ms/step - loss: 0.0035 - val_loss: 0.1754 - lr: 1.0000e-04\n",
            "Epoch 9/60\n",
            "512/512 [==============================] - ETA: 0s - loss: 0.0033\n",
            "Epoch 00009: val_loss did not improve from 0.09424\n",
            "512/512 [==============================] - 341s 667ms/step - loss: 0.0033 - val_loss: 0.1747 - lr: 1.0000e-04\n",
            "Epoch 10/60\n",
            "512/512 [==============================] - ETA: 0s - loss: 0.0032\n",
            "Epoch 00010: val_loss did not improve from 0.09424\n",
            "512/512 [==============================] - 342s 667ms/step - loss: 0.0032 - val_loss: 0.1719 - lr: 1.0000e-04\n",
            "Epoch 11/60\n",
            "512/512 [==============================] - ETA: 0s - loss: 0.0031\n",
            "Epoch 00011: val_loss did not improve from 0.09424\n",
            "512/512 [==============================] - 341s 667ms/step - loss: 0.0031 - val_loss: 0.1727 - lr: 1.0000e-04\n",
            "Epoch 12/60\n",
            "512/512 [==============================] - ETA: 0s - loss: 0.0029\n",
            "Epoch 00012: val_loss did not improve from 0.09424\n",
            "512/512 [==============================] - 342s 668ms/step - loss: 0.0029 - val_loss: 0.1732 - lr: 1.0000e-04\n",
            "Epoch 13/60\n",
            "512/512 [==============================] - ETA: 0s - loss: 0.0029\n",
            "Epoch 00013: val_loss did not improve from 0.09424\n",
            "512/512 [==============================] - 342s 668ms/step - loss: 0.0029 - val_loss: 0.1739 - lr: 1.0000e-04\n",
            "Epoch 14/60\n",
            "512/512 [==============================] - ETA: 0s - loss: 0.0029\n",
            "Epoch 00014: val_loss did not improve from 0.09424\n",
            "512/512 [==============================] - 343s 669ms/step - loss: 0.0029 - val_loss: 0.1757 - lr: 1.0000e-04\n",
            "Epoch 15/60\n",
            "512/512 [==============================] - ETA: 0s - loss: 0.0028\n",
            "Epoch 00015: val_loss did not improve from 0.09424\n",
            "512/512 [==============================] - 342s 668ms/step - loss: 0.0028 - val_loss: 0.1725 - lr: 1.0000e-04\n",
            "Epoch 16/60\n",
            "512/512 [==============================] - ETA: 0s - loss: 0.0029\n",
            "Epoch 00016: val_loss did not improve from 0.09424\n",
            "512/512 [==============================] - 343s 669ms/step - loss: 0.0029 - val_loss: 0.1745 - lr: 1.0000e-04\n",
            "Epoch 17/60\n",
            "512/512 [==============================] - ETA: 0s - loss: 0.0028\n",
            "Epoch 00017: val_loss did not improve from 0.09424\n",
            "512/512 [==============================] - 342s 669ms/step - loss: 0.0028 - val_loss: 0.1752 - lr: 1.0000e-04\n",
            "Epoch 18/60\n",
            "512/512 [==============================] - ETA: 0s - loss: 0.0028\n",
            "Epoch 00018: val_loss did not improve from 0.09424\n",
            "512/512 [==============================] - 342s 668ms/step - loss: 0.0028 - val_loss: 0.1739 - lr: 1.0000e-04\n",
            "Epoch 19/60\n",
            "512/512 [==============================] - ETA: 0s - loss: 0.0028\n",
            "Epoch 00019: val_loss did not improve from 0.09424\n",
            "512/512 [==============================] - 343s 669ms/step - loss: 0.0028 - val_loss: 0.1750 - lr: 1.0000e-04\n",
            "Epoch 20/60\n",
            "512/512 [==============================] - ETA: 0s - loss: 0.0028\n",
            "Epoch 00020: val_loss did not improve from 0.09424\n",
            "512/512 [==============================] - 342s 668ms/step - loss: 0.0028 - val_loss: 0.1757 - lr: 1.0000e-04\n",
            "Epoch 21/60\n",
            "512/512 [==============================] - ETA: 0s - loss: 0.0028\n",
            "Epoch 00021: val_loss did not improve from 0.09424\n",
            "512/512 [==============================] - 342s 668ms/step - loss: 0.0028 - val_loss: 0.1729 - lr: 1.0000e-04\n",
            "Epoch 22/60\n",
            "512/512 [==============================] - ETA: 0s - loss: 0.0028\n",
            "Epoch 00022: val_loss did not improve from 0.09424\n",
            "512/512 [==============================] - 342s 668ms/step - loss: 0.0028 - val_loss: 0.1720 - lr: 1.0000e-04\n",
            "Epoch 23/60\n",
            "512/512 [==============================] - ETA: 0s - loss: 0.0028\n",
            "Epoch 00023: val_loss did not improve from 0.09424\n",
            "512/512 [==============================] - 342s 668ms/step - loss: 0.0028 - val_loss: 0.1706 - lr: 1.0000e-04\n",
            "Epoch 24/60\n",
            "512/512 [==============================] - ETA: 0s - loss: 0.0028\n",
            "Epoch 00024: val_loss did not improve from 0.09424\n",
            "512/512 [==============================] - 344s 672ms/step - loss: 0.0028 - val_loss: 0.1721 - lr: 1.0000e-04\n",
            "Epoch 25/60\n",
            "512/512 [==============================] - ETA: 0s - loss: 0.0028\n",
            "Epoch 00025: val_loss did not improve from 0.09424\n",
            "512/512 [==============================] - 345s 673ms/step - loss: 0.0028 - val_loss: 0.1713 - lr: 1.0000e-04\n",
            "Epoch 26/60\n",
            "512/512 [==============================] - ETA: 0s - loss: 0.0028\n",
            "Epoch 00026: val_loss did not improve from 0.09424\n",
            "512/512 [==============================] - 345s 673ms/step - loss: 0.0028 - val_loss: 0.1723 - lr: 1.0000e-04\n",
            "Epoch 27/60\n",
            "512/512 [==============================] - ETA: 0s - loss: 0.0028\n",
            "Epoch 00027: val_loss did not improve from 0.09424\n",
            "512/512 [==============================] - 345s 673ms/step - loss: 0.0028 - val_loss: 0.1745 - lr: 1.0000e-04\n",
            "Epoch 28/60\n",
            "512/512 [==============================] - ETA: 0s - loss: 0.0028\n",
            "Epoch 00028: val_loss did not improve from 0.09424\n",
            "512/512 [==============================] - 345s 673ms/step - loss: 0.0028 - val_loss: 0.1714 - lr: 1.0000e-04\n",
            "Epoch 29/60\n",
            "512/512 [==============================] - ETA: 0s - loss: 0.0028\n",
            "Epoch 00029: val_loss did not improve from 0.09424\n",
            "512/512 [==============================] - 344s 672ms/step - loss: 0.0028 - val_loss: 0.1733 - lr: 1.0000e-04\n",
            "Epoch 30/60\n",
            "512/512 [==============================] - ETA: 0s - loss: 0.0028\n",
            "Epoch 00030: val_loss did not improve from 0.09424\n",
            "512/512 [==============================] - 345s 673ms/step - loss: 0.0028 - val_loss: 0.1738 - lr: 1.0000e-04\n",
            "Epoch 31/60\n",
            "512/512 [==============================] - ETA: 0s - loss: 0.0028\n",
            "Epoch 00031: val_loss did not improve from 0.09424\n",
            "512/512 [==============================] - 344s 672ms/step - loss: 0.0028 - val_loss: 0.1751 - lr: 1.0000e-04\n",
            "Epoch 32/60\n",
            "512/512 [==============================] - ETA: 0s - loss: 0.0028\n",
            "Epoch 00032: val_loss did not improve from 0.09424\n",
            "512/512 [==============================] - 345s 673ms/step - loss: 0.0028 - val_loss: 0.1774 - lr: 1.0000e-04\n",
            "Epoch 33/60\n",
            "512/512 [==============================] - ETA: 0s - loss: 0.0028\n",
            "Epoch 00033: val_loss did not improve from 0.09424\n",
            "512/512 [==============================] - 345s 673ms/step - loss: 0.0028 - val_loss: 0.1725 - lr: 1.0000e-04\n",
            "Epoch 34/60\n",
            "512/512 [==============================] - ETA: 0s - loss: 0.0028\n",
            "Epoch 00034: val_loss did not improve from 0.09424\n",
            "512/512 [==============================] - 344s 672ms/step - loss: 0.0028 - val_loss: 0.1776 - lr: 1.0000e-04\n",
            "Epoch 35/60\n",
            "512/512 [==============================] - ETA: 0s - loss: 0.0027\n",
            "Epoch 00035: val_loss did not improve from 0.09424\n",
            "512/512 [==============================] - 344s 673ms/step - loss: 0.0027 - val_loss: 0.1771 - lr: 1.0000e-04\n",
            "Epoch 36/60\n",
            "512/512 [==============================] - ETA: 0s - loss: 0.0027\n",
            "Epoch 00036: val_loss did not improve from 0.09424\n",
            "512/512 [==============================] - 344s 673ms/step - loss: 0.0027 - val_loss: 0.1742 - lr: 1.0000e-04\n",
            "Epoch 37/60\n",
            "512/512 [==============================] - ETA: 0s - loss: 0.0027\n",
            "Epoch 00037: val_loss did not improve from 0.09424\n",
            "512/512 [==============================] - 344s 672ms/step - loss: 0.0027 - val_loss: 0.1766 - lr: 1.0000e-04\n",
            "Epoch 38/60\n",
            "512/512 [==============================] - ETA: 0s - loss: 0.0027\n",
            "Epoch 00038: val_loss did not improve from 0.09424\n",
            "512/512 [==============================] - 345s 673ms/step - loss: 0.0027 - val_loss: 0.1725 - lr: 1.0000e-04\n",
            "Epoch 39/60\n",
            "512/512 [==============================] - ETA: 0s - loss: 0.0027\n",
            "Epoch 00039: val_loss did not improve from 0.09424\n",
            "512/512 [==============================] - 345s 673ms/step - loss: 0.0027 - val_loss: 0.1761 - lr: 1.0000e-04\n",
            "Epoch 40/60\n",
            "512/512 [==============================] - ETA: 0s - loss: 0.0027\n",
            "Epoch 00040: val_loss did not improve from 0.09424\n",
            "512/512 [==============================] - 344s 672ms/step - loss: 0.0027 - val_loss: 0.1758 - lr: 1.0000e-04\n",
            "Epoch 41/60\n",
            "512/512 [==============================] - ETA: 0s - loss: 0.0027\n",
            "Epoch 00041: val_loss did not improve from 0.09424\n",
            "512/512 [==============================] - 344s 672ms/step - loss: 0.0027 - val_loss: 0.1759 - lr: 1.0000e-04\n",
            "Epoch 42/60\n",
            "512/512 [==============================] - ETA: 0s - loss: 0.0027\n",
            "Epoch 00042: val_loss did not improve from 0.09424\n",
            "512/512 [==============================] - 344s 673ms/step - loss: 0.0027 - val_loss: 0.1771 - lr: 1.0000e-04\n",
            "Epoch 43/60\n",
            "512/512 [==============================] - ETA: 0s - loss: 0.0026\n",
            "Epoch 00043: val_loss did not improve from 0.09424\n",
            "512/512 [==============================] - 344s 673ms/step - loss: 0.0026 - val_loss: 0.1749 - lr: 1.0000e-04\n",
            "Epoch 44/60\n",
            "512/512 [==============================] - ETA: 0s - loss: 0.0026\n",
            "Epoch 00044: val_loss did not improve from 0.09424\n",
            "512/512 [==============================] - 344s 672ms/step - loss: 0.0026 - val_loss: 0.1751 - lr: 1.0000e-04\n",
            "Epoch 45/60\n",
            "512/512 [==============================] - ETA: 0s - loss: 0.0026\n",
            "Epoch 00045: val_loss did not improve from 0.09424\n",
            "512/512 [==============================] - 344s 672ms/step - loss: 0.0026 - val_loss: 0.1739 - lr: 1.0000e-04\n",
            "Epoch 46/60\n",
            "512/512 [==============================] - ETA: 0s - loss: 0.0026\n",
            "Epoch 00046: val_loss did not improve from 0.09424\n",
            "512/512 [==============================] - 345s 673ms/step - loss: 0.0026 - val_loss: 0.1729 - lr: 1.0000e-04\n",
            "Epoch 47/60\n",
            "512/512 [==============================] - ETA: 0s - loss: 0.0026\n",
            "Epoch 00047: val_loss did not improve from 0.09424\n",
            "512/512 [==============================] - 345s 673ms/step - loss: 0.0026 - val_loss: 0.1716 - lr: 1.0000e-04\n",
            "Epoch 48/60\n",
            "512/512 [==============================] - ETA: 0s - loss: 0.0026\n",
            "Epoch 00048: val_loss did not improve from 0.09424\n",
            "512/512 [==============================] - 345s 674ms/step - loss: 0.0026 - val_loss: 0.1728 - lr: 1.0000e-04\n",
            "Epoch 49/60\n",
            "512/512 [==============================] - ETA: 0s - loss: 0.0026\n",
            "Epoch 00049: val_loss did not improve from 0.09424\n",
            "512/512 [==============================] - 346s 675ms/step - loss: 0.0026 - val_loss: 0.1740 - lr: 1.0000e-04\n",
            "Epoch 50/60\n",
            "512/512 [==============================] - ETA: 0s - loss: 0.0026\n",
            "Epoch 00050: val_loss did not improve from 0.09424\n",
            "512/512 [==============================] - 345s 675ms/step - loss: 0.0026 - val_loss: 0.1737 - lr: 1.0000e-04\n",
            "Epoch 51/60\n",
            "512/512 [==============================] - ETA: 0s - loss: 0.0026\n",
            "Epoch 00051: val_loss did not improve from 0.09424\n",
            "512/512 [==============================] - 346s 675ms/step - loss: 0.0026 - val_loss: 0.1742 - lr: 1.0000e-04\n",
            "Epoch 52/60\n",
            "512/512 [==============================] - ETA: 0s - loss: 0.0026\n",
            "Epoch 00052: val_loss did not improve from 0.09424\n",
            "512/512 [==============================] - 345s 675ms/step - loss: 0.0026 - val_loss: 0.1751 - lr: 1.0000e-04\n",
            "Epoch 53/60\n",
            "512/512 [==============================] - ETA: 0s - loss: 0.0026\n",
            "Epoch 00053: val_loss did not improve from 0.09424\n",
            "512/512 [==============================] - 346s 675ms/step - loss: 0.0026 - val_loss: 0.1748 - lr: 1.0000e-04\n",
            "Epoch 54/60\n",
            "512/512 [==============================] - ETA: 0s - loss: 0.0026\n",
            "Epoch 00054: val_loss did not improve from 0.09424\n",
            "512/512 [==============================] - 346s 675ms/step - loss: 0.0026 - val_loss: 0.1751 - lr: 1.0000e-04\n",
            "Epoch 55/60\n",
            "512/512 [==============================] - ETA: 0s - loss: 0.0026\n",
            "Epoch 00055: val_loss did not improve from 0.09424\n",
            "512/512 [==============================] - 343s 670ms/step - loss: 0.0026 - val_loss: 0.1780 - lr: 1.0000e-04\n",
            "Epoch 56/60\n",
            "512/512 [==============================] - ETA: 0s - loss: 0.0026\n",
            "Epoch 00056: val_loss did not improve from 0.09424\n",
            "512/512 [==============================] - 343s 669ms/step - loss: 0.0026 - val_loss: 0.1778 - lr: 1.0000e-04\n",
            "Epoch 57/60\n",
            "512/512 [==============================] - ETA: 0s - loss: 0.0026\n",
            "Epoch 00057: val_loss did not improve from 0.09424\n",
            "512/512 [==============================] - 343s 670ms/step - loss: 0.0026 - val_loss: 0.1778 - lr: 1.0000e-04\n",
            "Epoch 58/60\n",
            "512/512 [==============================] - ETA: 0s - loss: 0.0026\n",
            "Epoch 00058: val_loss did not improve from 0.09424\n",
            "512/512 [==============================] - 343s 669ms/step - loss: 0.0026 - val_loss: 0.1778 - lr: 1.0000e-04\n",
            "Epoch 59/60\n",
            "512/512 [==============================] - ETA: 0s - loss: 0.0025\n",
            "Epoch 00059: val_loss did not improve from 0.09424\n",
            "512/512 [==============================] - 343s 669ms/step - loss: 0.0025 - val_loss: 0.1773 - lr: 1.0000e-04\n",
            "Epoch 60/60\n",
            "512/512 [==============================] - ETA: 0s - loss: 0.0026\n",
            "Epoch 00060: val_loss did not improve from 0.09424\n",
            "512/512 [==============================] - 343s 669ms/step - loss: 0.0026 - val_loss: 0.1782 - lr: 1.0000e-04\n",
            "1/1 [==============================] - 0s 793us/step - loss: 0.0942\n"
          ],
          "name": "stdout"
        }
      ]
    },
    {
      "cell_type": "code",
      "metadata": {
        "id": "5QFmpVuD0-KM",
        "colab_type": "code",
        "outputId": "41b24151-732f-4804-e846-d7d114e0eaa1",
        "colab": {
          "base_uri": "https://localhost:8080/",
          "height": 320
        }
      },
      "source": [
        "plot_comparison(start_idx=100, length=1000, train=True)"
      ],
      "execution_count": 3,
      "outputs": [
        {
          "output_type": "display_data",
          "data": {
            "image/png": "[encoded data removed]",
            "text/plain": [
              "<Figure size 1080x360 with 1 Axes>"
            ]
          },
          "metadata": {
            "tags": [],
            "needs_background": "light"
          }
        }
      ]
    },
    {
      "cell_type": "code",
      "metadata": {
        "id": "T_WRvRK2yOGY",
        "colab_type": "code",
        "colab": {
          "base_uri": "https://localhost:8080/",
          "height": 265
        },
        "outputId": "05238dd9-9989-42e0-9124-d07b1e52d226"
      },
      "source": [
        "df['chiller_state'][2000:2000+1000].plot();"
      ],
      "execution_count": 4,
      "outputs": [
        {
          "output_type": "display_data",
          "data": {
            "image/png": "[encoded data removed]",
            "text/plain": [
              "<Figure size 432x288 with 1 Axes>"
            ]
          },
          "metadata": {
            "tags": [],
            "needs_background": "light"
          }
        }
      ]
    },
    {
      "cell_type": "code",
      "metadata": {
        "id": "UiLX4plt1gts",
        "colab_type": "code",
        "outputId": "73536905-8150-442d-a765-30c8c9472a21",
        "colab": {
          "base_uri": "https://localhost:8080/",
          "height": 34
        }
      },
      "source": [
        "# testing the model results\n",
        "y_test.shape\n",
        "target_names = ['time', 'smd_temp', 'smd_RH', 'amb_temp', 'amb_RH', 'SMD', 'chiller_state', 'month', 'year', 'day']\n",
        "# steps for prediction\n",
        "# create an array \n",
        "# a = []\n",
        "# of values in order\n",
        "# ['time', 'smd_temp', 'smd_RH', 'amb_temp', 'amb_RH', 'SMD', 'chiller_state', 'month', 'year', 'day']\n",
        "\n",
        "#        where time is the hour \n",
        "# example\n",
        "array_example =  [ 7.  ,  26.6 ,  64.29,  29.4 ,  80.  , 573.  ,   1., 6,2017 ,4  ] \n",
        "x_scaler = MinMaxScaler()\n",
        "array_example = x_scaler.fit_transform(np.array(array_example).reshape(-1,1))\n",
        "array_example = np.reshape(array_example , (1,-1))     \n",
        "array_example = np.expand_dims(array_example, axis=0)\n",
        "y_pred = model.predict(array_example)    \n",
        "actual_state_pred = y_pred.round()\n",
        "int(actual_state_pred)"
      ],
      "execution_count": 5,
      "outputs": [
        {
          "output_type": "execute_result",
          "data": {
            "text/plain": [
              "0"
            ]
          },
          "metadata": {
            "tags": []
          },
          "execution_count": 5
        }
      ]
    },
    {
      "cell_type": "code",
      "metadata": {
        "id": "SJNY1IALyLdi",
        "colab_type": "code",
        "outputId": "f32a25ea-3597-4228-a517-41840555bbed",
        "colab": {
          "base_uri": "https://localhost:8080/",
          "height": 68
        }
      },
      "source": [
        "x =x_scaler.fit_transform(x_test)\n",
        "x = np.expand_dims(x, axis=0)\n",
        "y_true = y_test\n",
        "y_true = np.squeeze(y_true)\n",
        "y_pred = model.predict(x)\n",
        "y_pred = np.squeeze(y_pred)\n",
        "y_pred = y_pred.round()\n",
        "accuracy = accuracy_score(y_true, y_pred)\n",
        "print('Accuracy: %f' % accuracy)\n",
        "\n",
        "# precision \n",
        "precision = precision_score(y_true, y_pred)\n",
        "print('Precision: %f' % precision)\n",
        "\n",
        "# recall\n",
        "recall = recall_score(y_true,y_pred)\n",
        "print('Recall: %f' % recall)"
      ],
      "execution_count": 6,
      "outputs": [
        {
          "output_type": "stream",
          "text": [
            "Accuracy: 0.863494\n",
            "Precision: 0.895445\n",
            "Recall: 0.843902\n"
          ],
          "name": "stdout"
        }
      ]
    },
    {
      "cell_type": "code",
      "metadata": {
        "id": "ZJMkvUTS1jNn",
        "colab_type": "code",
        "colab": {}
      },
      "source": [
        "x =x_scaler.fit_transform(x_test[:])\n",
        "x = np.expand_dims(x, axis=0)\n",
        "y_true = y_test[:]\n",
        "y_true = np.squeeze(y_true)\n",
        "y_pred = model.predict(x)\n",
        "y_pred = np.squeeze(y_pred)\n",
        "y_pred = y_pred.round()\n",
        "all_items = {'given_val_time_t': x_test[:][: , 6],\n",
        "        'actual_state_time_t+2hr': y_true,\n",
        "        'predicted_state_time_t+2hr' : y_pred\n",
        "        }\n",
        "\n",
        "df = pd.DataFrame(all_items, columns= ['given_val_time_t', 'actual_state_time_t+2hr' ,'predicted_state_time_t+2hr' ])\n",
        "df.to_csv(\"output.csv\" , index=True)"
      ],
      "execution_count": 0,
      "outputs": []
    },
    {
      "cell_type": "code",
      "metadata": {
        "id": "mU-oDcWH1rLi",
        "colab_type": "code",
        "colab": {}
      },
      "source": [
        ""
      ],
      "execution_count": 0,
      "outputs": []
    },
    {
      "cell_type": "markdown",
      "metadata": {
        "id": "-djVVHG3-mB6",
        "colab_type": "text"
      },
      "source": [
        ""
      ]
    },
    {
      "cell_type": "code",
      "metadata": {
        "id": "S94adsHc1uTf",
        "colab_type": "code",
        "colab": {}
      },
      "source": [
        ""
      ],
      "execution_count": 0,
      "outputs": []
    },
    {
      "cell_type": "code",
      "metadata": {
        "id": "f0iJ7NtY1xCX",
        "colab_type": "code",
        "colab": {}
      },
      "source": [
        "\n"
      ],
      "execution_count": 0,
      "outputs": []
    },
    {
      "cell_type": "code",
      "metadata": {
        "id": "0-Dlyt7y1yvH",
        "colab_type": "code",
        "colab": {}
      },
      "source": [
        ""
      ],
      "execution_count": 0,
      "outputs": []
    },
    {
      "cell_type": "code",
      "metadata": {
        "id": "bsFe6CW711el",
        "colab_type": "code",
        "colab": {}
      },
      "source": [
        ""
      ],
      "execution_count": 0,
      "outputs": []
    },
    {
      "cell_type": "code",
      "metadata": {
        "id": "E3TViUJX13X9",
        "colab_type": "code",
        "colab": {}
      },
      "source": [
        ""
      ],
      "execution_count": 0,
      "outputs": []
    },
    {
      "cell_type": "code",
      "metadata": {
        "id": "bTt_8kCV15j3",
        "colab_type": "code",
        "colab": {}
      },
      "source": [
        ""
      ],
      "execution_count": 0,
      "outputs": []
    },
    {
      "cell_type": "code",
      "metadata": {
        "id": "A1RktFHM17SZ",
        "colab_type": "code",
        "colab": {}
      },
      "source": [
        "\n"
      ],
      "execution_count": 0,
      "outputs": []
    },
    {
      "cell_type": "code",
      "metadata": {
        "id": "7an-jMxs19DX",
        "colab_type": "code",
        "colab": {}
      },
      "source": [
        ""
      ],
      "execution_count": 0,
      "outputs": []
    },
    {
      "cell_type": "code",
      "metadata": {
        "id": "LiMuPHnY1_hf",
        "colab_type": "code",
        "colab": {}
      },
      "source": [
        "\n"
      ],
      "execution_count": 0,
      "outputs": []
    },
    {
      "cell_type": "code",
      "metadata": {
        "id": "rLoZvlJo2BCQ",
        "colab_type": "code",
        "colab": {}
      },
      "source": [
        ""
      ],
      "execution_count": 0,
      "outputs": []
    },
    {
      "cell_type": "code",
      "metadata": {
        "id": "jnXPMu8t2Dcn",
        "colab_type": "code",
        "colab": {}
      },
      "source": [
        "\n"
      ],
      "execution_count": 0,
      "outputs": []
    },
    {
      "cell_type": "code",
      "metadata": {
        "id": "KHUc9-UC2F8n",
        "colab_type": "code",
        "colab": {}
      },
      "source": [
        "\n"
      ],
      "execution_count": 0,
      "outputs": []
    },
    {
      "cell_type": "code",
      "metadata": {
        "id": "nZXDwtfI2Hrv",
        "colab_type": "code",
        "colab": {}
      },
      "source": [
        "\n"
      ],
      "execution_count": 0,
      "outputs": []
    },
    {
      "cell_type": "code",
      "metadata": {
        "id": "SHpQE4Jw2Q-5",
        "colab_type": "code",
        "colab": {}
      },
      "source": [
        "\n"
      ],
      "execution_count": 0,
      "outputs": []
    },
    {
      "cell_type": "code",
      "metadata": {
        "id": "OhHYQCjv2UZv",
        "colab_type": "code",
        "colab": {}
      },
      "source": [
        "\n"
      ],
      "execution_count": 0,
      "outputs": []
    },
    {
      "cell_type": "code",
      "metadata": {
        "id": "NxQh-i3S2Wrv",
        "colab_type": "code",
        "colab": {}
      },
      "source": [
        "\n"
      ],
      "execution_count": 0,
      "outputs": []
    },
    {
      "cell_type": "code",
      "metadata": {
        "id": "tEO_hjAa2dDP",
        "colab_type": "code",
        "colab": {}
      },
      "source": [
        "\n",
        "\n"
      ],
      "execution_count": 0,
      "outputs": []
    },
    {
      "cell_type": "code",
      "metadata": {
        "id": "BtPAlTLT2elf",
        "colab_type": "code",
        "colab": {}
      },
      "source": [
        ""
      ],
      "execution_count": 0,
      "outputs": []
    },
    {
      "cell_type": "code",
      "metadata": {
        "id": "uhY-21ZU2hH_",
        "colab_type": "code",
        "colab": {}
      },
      "source": [
        ""
      ],
      "execution_count": 0,
      "outputs": []
    },
    {
      "cell_type": "code",
      "metadata": {
        "id": "75TbPUpy2jpW",
        "colab_type": "code",
        "colab": {}
      },
      "source": [
        ""
      ],
      "execution_count": 0,
      "outputs": []
    },
    {
      "cell_type": "code",
      "metadata": {
        "id": "BjpIOCba2mSQ",
        "colab_type": "code",
        "colab": {}
      },
      "source": [
        ""
      ],
      "execution_count": 0,
      "outputs": []
    },
    {
      "cell_type": "code",
      "metadata": {
        "id": "GWp3jTil2zBf",
        "colab_type": "code",
        "colab": {}
      },
      "source": [
        ""
      ],
      "execution_count": 0,
      "outputs": []
    },
    {
      "cell_type": "code",
      "metadata": {
        "id": "LvyHVxTb22BO",
        "colab_type": "code",
        "colab": {}
      },
      "source": [
        ""
      ],
      "execution_count": 0,
      "outputs": []
    },
    {
      "cell_type": "code",
      "metadata": {
        "id": "ZMKYY3lM24Qn",
        "colab_type": "code",
        "colab": {}
      },
      "source": [
        "\n"
      ],
      "execution_count": 0,
      "outputs": []
    },
    {
      "cell_type": "code",
      "metadata": {
        "id": "AMYsnGQV3BfX",
        "colab_type": "code",
        "colab": {}
      },
      "source": [
        ""
      ],
      "execution_count": 0,
      "outputs": []
    },
    {
      "cell_type": "code",
      "metadata": {
        "id": "YQTJMppd3D2h",
        "colab_type": "code",
        "colab": {}
      },
      "source": [
        ""
      ],
      "execution_count": 0,
      "outputs": []
    },
    {
      "cell_type": "code",
      "metadata": {
        "id": "7-Q9IbXE3F3X",
        "colab_type": "code",
        "colab": {}
      },
      "source": [
        ""
      ],
      "execution_count": 0,
      "outputs": []
    },
    {
      "cell_type": "code",
      "metadata": {
        "id": "tSMnydil3HV_",
        "colab_type": "code",
        "colab": {}
      },
      "source": [
        "\n"
      ],
      "execution_count": 0,
      "outputs": []
    },
    {
      "cell_type": "code",
      "metadata": {
        "id": "DnacHciw3MD4",
        "colab_type": "code",
        "colab": {}
      },
      "source": [
        "\n"
      ],
      "execution_count": 0,
      "outputs": []
    },
    {
      "cell_type": "code",
      "metadata": {
        "id": "ylZtLytN3OQ0",
        "colab_type": "code",
        "colab": {}
      },
      "source": [
        ""
      ],
      "execution_count": 0,
      "outputs": []
    },
    {
      "cell_type": "code",
      "metadata": {
        "id": "yCD_kw8k3Pwf",
        "colab_type": "code",
        "colab": {}
      },
      "source": [
        "\n"
      ],
      "execution_count": 0,
      "outputs": []
    },
    {
      "cell_type": "code",
      "metadata": {
        "id": "7qfIhacF3RwH",
        "colab_type": "code",
        "colab": {}
      },
      "source": [
        ""
      ],
      "execution_count": 0,
      "outputs": []
    },
    {
      "cell_type": "code",
      "metadata": {
        "id": "a5F1PHoV3TWU",
        "colab_type": "code",
        "colab": {}
      },
      "source": [
        ""
      ],
      "execution_count": 0,
      "outputs": []
    },
    {
      "cell_type": "code",
      "metadata": {
        "id": "1iCdSODR3VTK",
        "colab_type": "code",
        "colab": {}
      },
      "source": [
        ""
      ],
      "execution_count": 0,
      "outputs": []
    },
    {
      "cell_type": "code",
      "metadata": {
        "id": "VpqAW1Lb3Xqm",
        "colab_type": "code",
        "colab": {}
      },
      "source": [
        ""
      ],
      "execution_count": 0,
      "outputs": []
    },
    {
      "cell_type": "code",
      "metadata": {
        "id": "9dIvoozj3Z0G",
        "colab_type": "code",
        "colab": {}
      },
      "source": [
        ""
      ],
      "execution_count": 0,
      "outputs": []
    },
    {
      "cell_type": "code",
      "metadata": {
        "id": "YPuqiqxV3bw_",
        "colab_type": "code",
        "colab": {}
      },
      "source": [
        "\n"
      ],
      "execution_count": 0,
      "outputs": []
    },
    {
      "cell_type": "code",
      "metadata": {
        "id": "ggxFxg8G3dsb",
        "colab_type": "code",
        "colab": {}
      },
      "source": [
        ""
      ],
      "execution_count": 0,
      "outputs": []
    },
    {
      "cell_type": "code",
      "metadata": {
        "id": "qXg0SEpe5JuI",
        "colab_type": "code",
        "colab": {}
      },
      "source": [
        ""
      ],
      "execution_count": 0,
      "outputs": []
    },
    {
      "cell_type": "code",
      "metadata": {
        "id": "HazFzyWV3fpX",
        "colab_type": "code",
        "colab": {}
      },
      "source": [
        ""
      ],
      "execution_count": 0,
      "outputs": []
    },
    {
      "cell_type": "code",
      "metadata": {
        "id": "Rou4g0nD3hQ6",
        "colab_type": "code",
        "colab": {}
      },
      "source": [
        ""
      ],
      "execution_count": 0,
      "outputs": []
    },
    {
      "cell_type": "code",
      "metadata": {
        "id": "4sm2IMI-3jKZ",
        "colab_type": "code",
        "colab": {}
      },
      "source": [
        ""
      ],
      "execution_count": 0,
      "outputs": []
    },
    {
      "cell_type": "code",
      "metadata": {
        "id": "hDwwW96l3m1H",
        "colab_type": "code",
        "colab": {}
      },
      "source": [
        ""
      ],
      "execution_count": 0,
      "outputs": []
    },
    {
      "cell_type": "code",
      "metadata": {
        "id": "HsV-phPq3pHA",
        "colab_type": "code",
        "colab": {}
      },
      "source": [
        ""
      ],
      "execution_count": 0,
      "outputs": []
    },
    {
      "cell_type": "code",
      "metadata": {
        "id": "hJdLQG-M3rI_",
        "colab_type": "code",
        "colab": {}
      },
      "source": [
        ""
      ],
      "execution_count": 0,
      "outputs": []
    },
    {
      "cell_type": "code",
      "metadata": {
        "id": "C2P73mfw3s2W",
        "colab_type": "code",
        "colab": {}
      },
      "source": [
        ""
      ],
      "execution_count": 0,
      "outputs": []
    },
    {
      "cell_type": "code",
      "metadata": {
        "id": "xClnD-VB3vGy",
        "colab_type": "code",
        "colab": {}
      },
      "source": [
        "\n"
      ],
      "execution_count": 0,
      "outputs": []
    },
    {
      "cell_type": "code",
      "metadata": {
        "id": "nPMsTQuG3xMA",
        "colab_type": "code",
        "colab": {}
      },
      "source": [
        ""
      ],
      "execution_count": 0,
      "outputs": []
    },
    {
      "cell_type": "code",
      "metadata": {
        "id": "PfBWB3Yj5m7v",
        "colab_type": "code",
        "colab": {}
      },
      "source": [
        ""
      ],
      "execution_count": 0,
      "outputs": []
    },
    {
      "cell_type": "code",
      "metadata": {
        "id": "FvzI4Ljc5pU4",
        "colab_type": "code",
        "colab": {}
      },
      "source": [
        ""
      ],
      "execution_count": 0,
      "outputs": []
    },
    {
      "cell_type": "code",
      "metadata": {
        "id": "WNaItMjA6V4o",
        "colab_type": "code",
        "colab": {}
      },
      "source": [
        ""
      ],
      "execution_count": 0,
      "outputs": []
    },
    {
      "cell_type": "code",
      "metadata": {
        "id": "ae2LgX2e6lKS",
        "colab_type": "code",
        "colab": {}
      },
      "source": [
        ""
      ],
      "execution_count": 0,
      "outputs": []
    },
    {
      "cell_type": "code",
      "metadata": {
        "id": "ls-FJVDK6oVl",
        "colab_type": "code",
        "colab": {}
      },
      "source": [
        ""
      ],
      "execution_count": 0,
      "outputs": []
    },
    {
      "cell_type": "code",
      "metadata": {
        "id": "FnrWOc157mJP",
        "colab_type": "code",
        "colab": {}
      },
      "source": [
        ""
      ],
      "execution_count": 0,
      "outputs": []
    },
    {
      "cell_type": "code",
      "metadata": {
        "id": "pdufUrQT70jC",
        "colab_type": "code",
        "colab": {}
      },
      "source": [
        "\n"
      ],
      "execution_count": 0,
      "outputs": []
    },
    {
      "cell_type": "code",
      "metadata": {
        "id": "Q8KVxsFy--f0",
        "colab_type": "code",
        "colab": {}
      },
      "source": [
        "\n"
      ],
      "execution_count": 0,
      "outputs": []
    },
    {
      "cell_type": "code",
      "metadata": {
        "id": "cZilxX01BwhL",
        "colab_type": "code",
        "colab": {}
      },
      "source": [
        ""
      ],
      "execution_count": 0,
      "outputs": []
    },
    {
      "cell_type": "code",
      "metadata": {
        "id": "Deu7Y9ngCB4y",
        "colab_type": "code",
        "colab": {}
      },
      "source": [
        "\n",
        "\n"
      ],
      "execution_count": 0,
      "outputs": []
    },
    {
      "cell_type": "code",
      "metadata": {
        "id": "rvYZvzcbCFez",
        "colab_type": "code",
        "colab": {}
      },
      "source": [
        ""
      ],
      "execution_count": 0,
      "outputs": []
    },
    {
      "cell_type": "code",
      "metadata": {
        "id": "pCBC9dhsCaPh",
        "colab_type": "code",
        "colab": {}
      },
      "source": [
        ""
      ],
      "execution_count": 0,
      "outputs": []
    },
    {
      "cell_type": "code",
      "metadata": {
        "id": "zXxWD_koKCVl",
        "colab_type": "code",
        "colab": {}
      },
      "source": [
        ""
      ],
      "execution_count": 0,
      "outputs": []
    },
    {
      "cell_type": "code",
      "metadata": {
        "id": "1NKRB8CaJhoe",
        "colab_type": "code",
        "colab": {}
      },
      "source": [
        "\n"
      ],
      "execution_count": 0,
      "outputs": []
    },
    {
      "cell_type": "code",
      "metadata": {
        "id": "54H3bmYrKVRN",
        "colab_type": "code",
        "colab": {}
      },
      "source": [
        "\n",
        "\n"
      ],
      "execution_count": 0,
      "outputs": []
    },
    {
      "cell_type": "code",
      "metadata": {
        "id": "6zWeR_hPKjxR",
        "colab_type": "code",
        "colab": {}
      },
      "source": [
        "\n"
      ],
      "execution_count": 0,
      "outputs": []
    },
    {
      "cell_type": "code",
      "metadata": {
        "id": "-ebiJfvpKuSp",
        "colab_type": "code",
        "colab": {}
      },
      "source": [
        "\n"
      ],
      "execution_count": 0,
      "outputs": []
    },
    {
      "cell_type": "code",
      "metadata": {
        "id": "RQvsPsacLGJY",
        "colab_type": "code",
        "colab": {}
      },
      "source": [
        ""
      ],
      "execution_count": 0,
      "outputs": []
    },
    {
      "cell_type": "code",
      "metadata": {
        "id": "A2KZnmlsNolc",
        "colab_type": "code",
        "colab": {}
      },
      "source": [
        ""
      ],
      "execution_count": 0,
      "outputs": []
    },
    {
      "cell_type": "code",
      "metadata": {
        "id": "Ql8Vv8JVNtLT",
        "colab_type": "code",
        "colab": {}
      },
      "source": [
        "# The above was the mthod to get prediction 2hrs in the future\n",
        "\n",
        "# note that \n",
        "# dont asume that since x,y have same index they are of same date, the data is modified such that \n",
        "# y is 2hr ahead of x\n",
        "# for testing purposes and training aswell"
      ],
      "execution_count": 0,
      "outputs": []
    },
    {
      "cell_type": "code",
      "metadata": {
        "id": "4rsfLHZwObgB",
        "colab_type": "code",
        "colab": {}
      },
      "source": [
        "# finding accurary precision recall \n",
        "# for this i will use a set of test samples"
      ],
      "execution_count": 0,
      "outputs": []
    },
    {
      "cell_type": "code",
      "metadata": {
        "id": "S4f0NLB5OpSL",
        "colab_type": "code",
        "colab": {}
      },
      "source": [
        ""
      ],
      "execution_count": 0,
      "outputs": []
    },
    {
      "cell_type": "code",
      "metadata": {
        "id": "4EBMUfHpOyKX",
        "colab_type": "code",
        "colab": {}
      },
      "source": [
        ""
      ],
      "execution_count": 0,
      "outputs": []
    },
    {
      "cell_type": "code",
      "metadata": {
        "id": "l5mXUzpJOt8P",
        "colab_type": "code",
        "colab": {}
      },
      "source": [
        ""
      ],
      "execution_count": 0,
      "outputs": []
    },
    {
      "cell_type": "code",
      "metadata": {
        "id": "nG8Ae66CPXVx",
        "colab_type": "code",
        "colab": {}
      },
      "source": [
        "# GRU is used for now is because lstm is takes up alot of vram and basic functionality of both of these is same \n",
        "# GRU is slightly faster too \n",
        "# both these algos provide good functionality for time series data"
      ],
      "execution_count": 0,
      "outputs": []
    },
    {
      "cell_type": "code",
      "metadata": {
        "id": "A_XbXeByPbIX",
        "colab_type": "code",
        "colab": {}
      },
      "source": [
        ""
      ],
      "execution_count": 0,
      "outputs": []
    },
    {
      "cell_type": "code",
      "metadata": {
        "id": "EfmahZEDPxVt",
        "colab_type": "code",
        "colab": {}
      },
      "source": [
        "# # amking the csv\n",
        "# we can take an example set of 50 rows\n",
        "# for checking the corrrectness of data \n",
        "# see row and row+24th row \n",
        "\n",
        "# since the data for tests is shifted by 24rows that is 1 day to predict the required 1 day in future\n",
        "# u can see indexed row and indexed row +24Th row\n",
        "\n",
        "# for example\n",
        "# if we have data in first row , the same corresponding chiller state will be found in y_true with a +24 index"
      ],
      "execution_count": 0,
      "outputs": []
    },
    {
      "cell_type": "code",
      "metadata": {
        "id": "ypbZzknaSfk4",
        "colab_type": "code",
        "colab": {}
      },
      "source": [
        ""
      ],
      "execution_count": 0,
      "outputs": []
    },
    {
      "cell_type": "code",
      "metadata": {
        "id": "QzRaJKmdSrWE",
        "colab_type": "code",
        "colab": {}
      },
      "source": [
        ""
      ],
      "execution_count": 0,
      "outputs": []
    },
    {
      "cell_type": "code",
      "metadata": {
        "id": "A0YozWHqTLGI",
        "colab_type": "code",
        "colab": {}
      },
      "source": [
        ""
      ],
      "execution_count": 0,
      "outputs": []
    },
    {
      "cell_type": "code",
      "metadata": {
        "id": "zy-osWh7T_o3",
        "colab_type": "code",
        "colab": {}
      },
      "source": [
        ""
      ],
      "execution_count": 0,
      "outputs": []
    },
    {
      "cell_type": "code",
      "metadata": {
        "id": "vMpdKXVVUsil",
        "colab_type": "code",
        "colab": {}
      },
      "source": [
        ""
      ],
      "execution_count": 0,
      "outputs": []
    },
    {
      "cell_type": "code",
      "metadata": {
        "id": "uiPL5k5dGJta",
        "colab_type": "code",
        "colab": {}
      },
      "source": [
        ""
      ],
      "execution_count": 0,
      "outputs": []
    }
  ]
}