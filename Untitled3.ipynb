{
 "cells": [
  {
   "cell_type": "code",
   "execution_count": 15,
   "metadata": {},
   "outputs": [],
   "source": [
    "\n",
    "# categories = [\"Apr\"]\n"
   ]
  },
  {
   "cell_type": "code",
   "execution_count": 10,
   "metadata": {},
   "outputs": [],
   "source": [
    "import os\n",
    "\n",
    "training_data = []\n",
    "\n",
    "def create_training_data():\n",
    "#     for category in categories:\n",
    "#         path = os.path.join(datadir , category)\n",
    "        for image in os.listdir(datadir):\n",
    "            try:\n",
    "                training_data.append([image])\n",
    "            except Exception as e:\n",
    "                pass"
   ]
  },
  {
   "cell_type": "code",
   "execution_count": 11,
   "metadata": {},
   "outputs": [],
   "source": [
    "filepath = \"Apr.zip\""
   ]
  },
  {
   "cell_type": "code",
   "execution_count": 12,
   "metadata": {},
   "outputs": [],
   "source": [
    "paths = get_all_file_paths(filepath)"
   ]
  },
  {
   "cell_type": "code",
   "execution_count": 13,
   "metadata": {},
   "outputs": [],
   "source": [
    "create_training_data()"
   ]
  },
  {
   "cell_type": "code",
   "execution_count": 14,
   "metadata": {},
   "outputs": [
    {
     "data": {
      "text/plain": [
       "[['Energy Report_201704D01.xls'],\n",
       " ['Energy Report_201704D02.xls'],\n",
       " ['Energy Report_201704D03.xls'],\n",
       " ['Energy Report_201704D04.xls'],\n",
       " ['Energy Report_201704D05.xls'],\n",
       " ['Energy Report_201704D06.xls'],\n",
       " ['Energy Report_201704D07.xls'],\n",
       " ['Energy Report_201704D08.xls'],\n",
       " ['Energy Report_201704D09.xls'],\n",
       " ['Energy Report_201704D10.xls'],\n",
       " ['Energy Report_201704D11.xls'],\n",
       " ['Energy Report_201704D12.xls'],\n",
       " ['Energy Report_201704D13.xls'],\n",
       " ['Energy Report_201704D14.xls'],\n",
       " ['Energy Report_201704D15.xls'],\n",
       " ['Energy Report_201704D16.xls'],\n",
       " ['Energy Report_201704D17.xls'],\n",
       " ['Energy Report_201704D18.xls'],\n",
       " ['Energy Report_201704D19.xls'],\n",
       " ['Energy Report_201704D20.xls'],\n",
       " ['Energy Report_201704D21.xls'],\n",
       " ['Energy Report_201704D22.xls'],\n",
       " ['Energy Report_201704D23.xls'],\n",
       " ['Energy Report_201704D24.xls'],\n",
       " ['Energy Report_201704D25.xls'],\n",
       " ['Energy Report_201704D26.xls'],\n",
       " ['Energy Report_201704D27.xls'],\n",
       " ['Energy Report_201704D28.xls'],\n",
       " ['Energy Report_201704D29.xls'],\n",
       " ['Energy Report_201704D30.xls']]"
      ]
     },
     "execution_count": 14,
     "metadata": {},
     "output_type": "execute_result"
    }
   ],
   "source": [
    "training_data"
   ]
  },
  {
   "cell_type": "code",
   "execution_count": 16,
   "metadata": {},
   "outputs": [],
   "source": []
  },
  {
   "cell_type": "code",
   "execution_count": 22,
   "metadata": {},
   "outputs": [],
   "source": [
    "train = []\n",
    "datadir = \"Apr/Apr/\"\n",
    "for excel in os.listdir(datadir):\n",
    "            try:\n",
    "                train.append([excel])\n",
    "            except Exception as e:\n",
    "                pass    \n",
    "                "
   ]
  },
  {
   "cell_type": "code",
   "execution_count": 18,
   "metadata": {},
   "outputs": [
    {
     "data": {
      "text/plain": [
       "[['Energy Report_201704D01.xls'],\n",
       " ['Energy Report_201704D02.xls'],\n",
       " ['Energy Report_201704D03.xls'],\n",
       " ['Energy Report_201704D04.xls'],\n",
       " ['Energy Report_201704D05.xls'],\n",
       " ['Energy Report_201704D06.xls'],\n",
       " ['Energy Report_201704D07.xls'],\n",
       " ['Energy Report_201704D08.xls'],\n",
       " ['Energy Report_201704D09.xls'],\n",
       " ['Energy Report_201704D10.xls'],\n",
       " ['Energy Report_201704D11.xls'],\n",
       " ['Energy Report_201704D12.xls'],\n",
       " ['Energy Report_201704D13.xls'],\n",
       " ['Energy Report_201704D14.xls'],\n",
       " ['Energy Report_201704D15.xls'],\n",
       " ['Energy Report_201704D16.xls'],\n",
       " ['Energy Report_201704D17.xls'],\n",
       " ['Energy Report_201704D18.xls'],\n",
       " ['Energy Report_201704D19.xls'],\n",
       " ['Energy Report_201704D20.xls'],\n",
       " ['Energy Report_201704D21.xls'],\n",
       " ['Energy Report_201704D22.xls'],\n",
       " ['Energy Report_201704D23.xls'],\n",
       " ['Energy Report_201704D24.xls'],\n",
       " ['Energy Report_201704D25.xls'],\n",
       " ['Energy Report_201704D26.xls'],\n",
       " ['Energy Report_201704D27.xls'],\n",
       " ['Energy Report_201704D28.xls'],\n",
       " ['Energy Report_201704D29.xls'],\n",
       " ['Energy Report_201704D30.xls']]"
      ]
     },
     "execution_count": 18,
     "metadata": {},
     "output_type": "execute_result"
    }
   ],
   "source": [
    "train"
   ]
  },
  {
   "cell_type": "code",
   "execution_count": 20,
   "metadata": {},
   "outputs": [],
   "source": [
    "import zipfile\n",
    "\n",
    "zf = zipfile.ZipFile(\"Apr.zip\", 'r')\n",
    "# print zf.namelist()"
   ]
  },
  {
   "cell_type": "code",
   "execution_count": 21,
   "metadata": {},
   "outputs": [
    {
     "data": {
      "text/plain": [
       "<zipfile.ZipFile filename='Apr.zip' mode='r'>"
      ]
     },
     "execution_count": 21,
     "metadata": {},
     "output_type": "execute_result"
    }
   ],
   "source": [
    "for "
   ]
  },
  {
   "cell_type": "code",
   "execution_count": null,
   "metadata": {},
   "outputs": [],
   "source": []
  }
 ],
 "metadata": {
  "kernelspec": {
   "display_name": "Python 3",
   "language": "python",
   "name": "python3"
  },
  "language_info": {
   "codemirror_mode": {
    "name": "ipython",
    "version": 3
   },
   "file_extension": ".py",
   "mimetype": "text/x-python",
   "name": "python",
   "nbconvert_exporter": "python",
   "pygments_lexer": "ipython3",
   "version": "3.7.4"
  }
 },
 "nbformat": 4,
 "nbformat_minor": 2
}
