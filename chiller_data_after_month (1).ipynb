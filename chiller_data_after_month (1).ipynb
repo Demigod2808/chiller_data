{
  "nbformat": 4,
  "nbformat_minor": 0,
  "metadata": {
    "colab": {
      "name": "chiller_data_.ipynb",
      "provenance": [],
      "collapsed_sections": []
    },
    "kernelspec": {
      "name": "python3",
      "display_name": "Python 3"
    },
    "accelerator": "GPU"
  },
  "cells": [
    {
      "cell_type": "code",
      "metadata": {
        "id": "EkHEgv8P0uMC",
        "colab_type": "code",
        "colab": {}
      },
      "source": [
        "import numpy as np\n",
        "import pandas as pd\n",
        "import datetime\n",
        "%matplotlib inline\n",
        "import matplotlib.pyplot as plt\n",
        "import tensorflow as tf\n",
        "from tensorflow.keras.layers import Input, Dense, GRU, Embedding\n",
        "import numpy as np\n",
        "import pandas as pd\n",
        "import os\n",
        "\n",
        "from sklearn.preprocessing import MinMaxScaler\n",
        "from sklearn.preprocessing import LabelEncoder\n",
        "from sklearn.metrics import mean_squared_error\n",
        "\n",
        "from tensorflow.keras.models import Sequential\n",
        "from tensorflow.keras.layers import Dense\n",
        "from tensorflow.keras.layers import LSTM\n",
        "from tensorflow.keras.optimizers import RMSprop\n",
        "from tensorflow.keras.callbacks import EarlyStopping, ModelCheckpoint, TensorBoard, ReduceLROnPlateau\n",
        "from tensorflow.keras.backend import square, mean"
      ],
      "execution_count": 0,
      "outputs": []
    },
    {
      "cell_type": "code",
      "metadata": {
        "id": "Of86YXuADEwZ",
        "colab_type": "code",
        "colab": {}
      },
      "source": [
        ""
      ],
      "execution_count": 0,
      "outputs": []
    },
    {
      "cell_type": "code",
      "metadata": {
        "id": "5QFmpVuD0-KM",
        "colab_type": "code",
        "outputId": "2044b7dc-55b2-4f8b-a6ef-7848d980826c",
        "colab": {
          "base_uri": "https://localhost:8080/",
          "height": 759
        }
      },
      "source": [
        "df = pd.read_csv('file_for_code.csv')\n",
        "# df = pd.read_csv('file_for_code.csv', index_col='Date',parse_dates=True)\n",
        "\n",
        "df"
      ],
      "execution_count": 2,
      "outputs": [
        {
          "output_type": "execute_result",
          "data": {
            "text/html": [
              "<div>\n",
              "<style scoped>\n",
              "    .dataframe tbody tr th:only-of-type {\n",
              "        vertical-align: middle;\n",
              "    }\n",
              "\n",
              "    .dataframe tbody tr th {\n",
              "        vertical-align: top;\n",
              "    }\n",
              "\n",
              "    .dataframe thead th {\n",
              "        text-align: right;\n",
              "    }\n",
              "</style>\n",
              "<table border=\"1\" class=\"dataframe\">\n",
              "  <thead>\n",
              "    <tr style=\"text-align: right;\">\n",
              "      <th></th>\n",
              "      <th>Date</th>\n",
              "      <th>time</th>\n",
              "      <th>smd_temp</th>\n",
              "      <th>smd_RH</th>\n",
              "      <th>amb_temp</th>\n",
              "      <th>amb_RH</th>\n",
              "      <th>amb_temp1</th>\n",
              "      <th>amb_temp2</th>\n",
              "      <th>amb_RH_next1</th>\n",
              "      <th>amb_RH_next2</th>\n",
              "      <th>TRAINE1</th>\n",
              "      <th>TRAINE2</th>\n",
              "      <th>TRAINE3</th>\n",
              "      <th>SMD</th>\n",
              "      <th>chiller_state</th>\n",
              "    </tr>\n",
              "  </thead>\n",
              "  <tbody>\n",
              "    <tr>\n",
              "      <th>0</th>\n",
              "      <td>04-01-2017</td>\n",
              "      <td>7</td>\n",
              "      <td>26.5</td>\n",
              "      <td>63.07</td>\n",
              "      <td>22.2</td>\n",
              "      <td>75.0</td>\n",
              "      <td>27.2</td>\n",
              "      <td>32.8</td>\n",
              "      <td>56.0</td>\n",
              "      <td>56.0</td>\n",
              "      <td>0.0</td>\n",
              "      <td>0.0</td>\n",
              "      <td>0.0</td>\n",
              "      <td>98.0</td>\n",
              "      <td>0</td>\n",
              "    </tr>\n",
              "    <tr>\n",
              "      <th>1</th>\n",
              "      <td>04-01-2017</td>\n",
              "      <td>8</td>\n",
              "      <td>27.7</td>\n",
              "      <td>64.14</td>\n",
              "      <td>27.2</td>\n",
              "      <td>56.0</td>\n",
              "      <td>27.2</td>\n",
              "      <td>32.8</td>\n",
              "      <td>56.0</td>\n",
              "      <td>40.0</td>\n",
              "      <td>0.0</td>\n",
              "      <td>0.0</td>\n",
              "      <td>0.0</td>\n",
              "      <td>167.0</td>\n",
              "      <td>0</td>\n",
              "    </tr>\n",
              "    <tr>\n",
              "      <th>2</th>\n",
              "      <td>04-01-2017</td>\n",
              "      <td>9</td>\n",
              "      <td>27.7</td>\n",
              "      <td>64.14</td>\n",
              "      <td>27.2</td>\n",
              "      <td>56.0</td>\n",
              "      <td>32.8</td>\n",
              "      <td>36.7</td>\n",
              "      <td>40.0</td>\n",
              "      <td>40.0</td>\n",
              "      <td>0.0</td>\n",
              "      <td>0.0</td>\n",
              "      <td>8.0</td>\n",
              "      <td>299.0</td>\n",
              "      <td>0</td>\n",
              "    </tr>\n",
              "    <tr>\n",
              "      <th>3</th>\n",
              "      <td>04-01-2017</td>\n",
              "      <td>10</td>\n",
              "      <td>26.4</td>\n",
              "      <td>63.86</td>\n",
              "      <td>32.8</td>\n",
              "      <td>40.0</td>\n",
              "      <td>32.8</td>\n",
              "      <td>36.7</td>\n",
              "      <td>40.0</td>\n",
              "      <td>26.0</td>\n",
              "      <td>10.0</td>\n",
              "      <td>107.0</td>\n",
              "      <td>120.0</td>\n",
              "      <td>392.0</td>\n",
              "      <td>1</td>\n",
              "    </tr>\n",
              "    <tr>\n",
              "      <th>4</th>\n",
              "      <td>04-01-2017</td>\n",
              "      <td>11</td>\n",
              "      <td>26.4</td>\n",
              "      <td>63.86</td>\n",
              "      <td>32.8</td>\n",
              "      <td>40.0</td>\n",
              "      <td>36.7</td>\n",
              "      <td>37.2</td>\n",
              "      <td>26.0</td>\n",
              "      <td>26.0</td>\n",
              "      <td>32.0</td>\n",
              "      <td>50.0</td>\n",
              "      <td>152.0</td>\n",
              "      <td>419.0</td>\n",
              "      <td>1</td>\n",
              "    </tr>\n",
              "    <tr>\n",
              "      <th>...</th>\n",
              "      <td>...</td>\n",
              "      <td>...</td>\n",
              "      <td>...</td>\n",
              "      <td>...</td>\n",
              "      <td>...</td>\n",
              "      <td>...</td>\n",
              "      <td>...</td>\n",
              "      <td>...</td>\n",
              "      <td>...</td>\n",
              "      <td>...</td>\n",
              "      <td>...</td>\n",
              "      <td>...</td>\n",
              "      <td>...</td>\n",
              "      <td>...</td>\n",
              "      <td>...</td>\n",
              "    </tr>\n",
              "    <tr>\n",
              "      <th>19111</th>\n",
              "      <td>10-31-2019</td>\n",
              "      <td>2</td>\n",
              "      <td>25.8</td>\n",
              "      <td>63.36</td>\n",
              "      <td>20.0</td>\n",
              "      <td>84.0</td>\n",
              "      <td>20.0</td>\n",
              "      <td>18.9</td>\n",
              "      <td>84.0</td>\n",
              "      <td>95.0</td>\n",
              "      <td>0.0</td>\n",
              "      <td>0.0</td>\n",
              "      <td>1.0</td>\n",
              "      <td>685.0</td>\n",
              "      <td>0</td>\n",
              "    </tr>\n",
              "    <tr>\n",
              "      <th>19112</th>\n",
              "      <td>10-31-2019</td>\n",
              "      <td>3</td>\n",
              "      <td>25.8</td>\n",
              "      <td>63.36</td>\n",
              "      <td>20.0</td>\n",
              "      <td>84.0</td>\n",
              "      <td>18.9</td>\n",
              "      <td>18.9</td>\n",
              "      <td>95.0</td>\n",
              "      <td>95.0</td>\n",
              "      <td>0.0</td>\n",
              "      <td>0.0</td>\n",
              "      <td>1.0</td>\n",
              "      <td>691.0</td>\n",
              "      <td>0</td>\n",
              "    </tr>\n",
              "    <tr>\n",
              "      <th>19113</th>\n",
              "      <td>10-31-2019</td>\n",
              "      <td>4</td>\n",
              "      <td>25.9</td>\n",
              "      <td>63.71</td>\n",
              "      <td>18.9</td>\n",
              "      <td>95.0</td>\n",
              "      <td>18.9</td>\n",
              "      <td>18.9</td>\n",
              "      <td>95.0</td>\n",
              "      <td>95.0</td>\n",
              "      <td>101.0</td>\n",
              "      <td>16.0</td>\n",
              "      <td>16.0</td>\n",
              "      <td>715.0</td>\n",
              "      <td>0</td>\n",
              "    </tr>\n",
              "    <tr>\n",
              "      <th>19114</th>\n",
              "      <td>10-31-2019</td>\n",
              "      <td>5</td>\n",
              "      <td>25.9</td>\n",
              "      <td>63.71</td>\n",
              "      <td>18.9</td>\n",
              "      <td>95.0</td>\n",
              "      <td>18.9</td>\n",
              "      <td>18.8</td>\n",
              "      <td>95.0</td>\n",
              "      <td>95.0</td>\n",
              "      <td>40.0</td>\n",
              "      <td>6.0</td>\n",
              "      <td>21.0</td>\n",
              "      <td>729.0</td>\n",
              "      <td>0</td>\n",
              "    </tr>\n",
              "    <tr>\n",
              "      <th>19115</th>\n",
              "      <td>10-31-2019</td>\n",
              "      <td>6</td>\n",
              "      <td>25.9</td>\n",
              "      <td>63.71</td>\n",
              "      <td>18.9</td>\n",
              "      <td>95.0</td>\n",
              "      <td>18.8</td>\n",
              "      <td>18.8</td>\n",
              "      <td>95.0</td>\n",
              "      <td>95.0</td>\n",
              "      <td>0.0</td>\n",
              "      <td>0.0</td>\n",
              "      <td>12.0</td>\n",
              "      <td>714.0</td>\n",
              "      <td>0</td>\n",
              "    </tr>\n",
              "  </tbody>\n",
              "</table>\n",
              "<p>19116 rows × 15 columns</p>\n",
              "</div>"
            ],
            "text/plain": [
              "             Date  time  smd_temp  ...  TRAINE3    SMD  chiller_state\n",
              "0      04-01-2017     7      26.5  ...      0.0   98.0              0\n",
              "1      04-01-2017     8      27.7  ...      0.0  167.0              0\n",
              "2      04-01-2017     9      27.7  ...      8.0  299.0              0\n",
              "3      04-01-2017    10      26.4  ...    120.0  392.0              1\n",
              "4      04-01-2017    11      26.4  ...    152.0  419.0              1\n",
              "...           ...   ...       ...  ...      ...    ...            ...\n",
              "19111  10-31-2019     2      25.8  ...      1.0  685.0              0\n",
              "19112  10-31-2019     3      25.8  ...      1.0  691.0              0\n",
              "19113  10-31-2019     4      25.9  ...     16.0  715.0              0\n",
              "19114  10-31-2019     5      25.9  ...     21.0  729.0              0\n",
              "19115  10-31-2019     6      25.9  ...     12.0  714.0              0\n",
              "\n",
              "[19116 rows x 15 columns]"
            ]
          },
          "metadata": {
            "tags": []
          },
          "execution_count": 2
        }
      ]
    },
    {
      "cell_type": "code",
      "metadata": {
        "id": "T_WRvRK2yOGY",
        "colab_type": "code",
        "colab": {}
      },
      "source": [
        "df[\"Date\"] = pd.to_datetime(df[\"Date\"])\n",
        "df[\"month\"] = df[\"Date\"].dt.month\n",
        "df[\"year\"] = df[\"Date\"].dt.year\n",
        "df[\"day\"] = df[\"Date\"].dt.day"
      ],
      "execution_count": 0,
      "outputs": []
    },
    {
      "cell_type": "code",
      "metadata": {
        "id": "UiLX4plt1gts",
        "colab_type": "code",
        "outputId": "845fca6c-7ad7-4f8b-8a79-c56bd5547b0c",
        "colab": {
          "base_uri": "https://localhost:8080/",
          "height": 518
        }
      },
      "source": [
        "print(df.columns)\n",
        "df.dropna(axis=0 , inplace=True)\n",
        "df.head()\n",
        "df.info()\n",
        "df.isnull().values.any()"
      ],
      "execution_count": 4,
      "outputs": [
        {
          "output_type": "stream",
          "text": [
            "Index(['Date', 'time', 'smd_temp', 'smd_RH', 'amb_temp', 'amb_RH', 'amb_temp1',\n",
            "       'amb_temp2', 'amb_RH_next1', 'amb_RH_next2', 'TRAINE1', 'TRAINE2',\n",
            "       'TRAINE3', 'SMD', 'chiller_state', 'month', 'year', 'day'],\n",
            "      dtype='object')\n",
            "<class 'pandas.core.frame.DataFrame'>\n",
            "Int64Index: 19113 entries, 0 to 19115\n",
            "Data columns (total 18 columns):\n",
            " #   Column         Non-Null Count  Dtype         \n",
            "---  ------         --------------  -----         \n",
            " 0   Date           19113 non-null  datetime64[ns]\n",
            " 1   time           19113 non-null  int64         \n",
            " 2   smd_temp       19113 non-null  float64       \n",
            " 3   smd_RH         19113 non-null  float64       \n",
            " 4   amb_temp       19113 non-null  float64       \n",
            " 5   amb_RH         19113 non-null  float64       \n",
            " 6   amb_temp1      19113 non-null  float64       \n",
            " 7   amb_temp2      19113 non-null  float64       \n",
            " 8   amb_RH_next1   19113 non-null  float64       \n",
            " 9   amb_RH_next2   19113 non-null  float64       \n",
            " 10  TRAINE1        19113 non-null  float64       \n",
            " 11  TRAINE2        19113 non-null  float64       \n",
            " 12  TRAINE3        19113 non-null  float64       \n",
            " 13  SMD            19113 non-null  float64       \n",
            " 14  chiller_state  19113 non-null  int64         \n",
            " 15  month          19113 non-null  int64         \n",
            " 16  year           19113 non-null  int64         \n",
            " 17  day            19113 non-null  int64         \n",
            "dtypes: datetime64[ns](1), float64(12), int64(5)\n",
            "memory usage: 2.8 MB\n"
          ],
          "name": "stdout"
        },
        {
          "output_type": "execute_result",
          "data": {
            "text/plain": [
              "False"
            ]
          },
          "metadata": {
            "tags": []
          },
          "execution_count": 4
        }
      ]
    },
    {
      "cell_type": "code",
      "metadata": {
        "id": "SJNY1IALyLdi",
        "colab_type": "code",
        "colab": {
          "base_uri": "https://localhost:8080/",
          "height": 300
        },
        "outputId": "a909e202-af55-4be2-a627-947d300794b8"
      },
      "source": [
        "df.head()"
      ],
      "execution_count": 5,
      "outputs": [
        {
          "output_type": "execute_result",
          "data": {
            "text/html": [
              "<div>\n",
              "<style scoped>\n",
              "    .dataframe tbody tr th:only-of-type {\n",
              "        vertical-align: middle;\n",
              "    }\n",
              "\n",
              "    .dataframe tbody tr th {\n",
              "        vertical-align: top;\n",
              "    }\n",
              "\n",
              "    .dataframe thead th {\n",
              "        text-align: right;\n",
              "    }\n",
              "</style>\n",
              "<table border=\"1\" class=\"dataframe\">\n",
              "  <thead>\n",
              "    <tr style=\"text-align: right;\">\n",
              "      <th></th>\n",
              "      <th>Date</th>\n",
              "      <th>time</th>\n",
              "      <th>smd_temp</th>\n",
              "      <th>smd_RH</th>\n",
              "      <th>amb_temp</th>\n",
              "      <th>amb_RH</th>\n",
              "      <th>amb_temp1</th>\n",
              "      <th>amb_temp2</th>\n",
              "      <th>amb_RH_next1</th>\n",
              "      <th>amb_RH_next2</th>\n",
              "      <th>TRAINE1</th>\n",
              "      <th>TRAINE2</th>\n",
              "      <th>TRAINE3</th>\n",
              "      <th>SMD</th>\n",
              "      <th>chiller_state</th>\n",
              "      <th>month</th>\n",
              "      <th>year</th>\n",
              "      <th>day</th>\n",
              "    </tr>\n",
              "  </thead>\n",
              "  <tbody>\n",
              "    <tr>\n",
              "      <th>0</th>\n",
              "      <td>2017-04-01</td>\n",
              "      <td>7</td>\n",
              "      <td>26.5</td>\n",
              "      <td>63.07</td>\n",
              "      <td>22.2</td>\n",
              "      <td>75.0</td>\n",
              "      <td>27.2</td>\n",
              "      <td>32.8</td>\n",
              "      <td>56.0</td>\n",
              "      <td>56.0</td>\n",
              "      <td>0.0</td>\n",
              "      <td>0.0</td>\n",
              "      <td>0.0</td>\n",
              "      <td>98.0</td>\n",
              "      <td>0</td>\n",
              "      <td>4</td>\n",
              "      <td>2017</td>\n",
              "      <td>1</td>\n",
              "    </tr>\n",
              "    <tr>\n",
              "      <th>1</th>\n",
              "      <td>2017-04-01</td>\n",
              "      <td>8</td>\n",
              "      <td>27.7</td>\n",
              "      <td>64.14</td>\n",
              "      <td>27.2</td>\n",
              "      <td>56.0</td>\n",
              "      <td>27.2</td>\n",
              "      <td>32.8</td>\n",
              "      <td>56.0</td>\n",
              "      <td>40.0</td>\n",
              "      <td>0.0</td>\n",
              "      <td>0.0</td>\n",
              "      <td>0.0</td>\n",
              "      <td>167.0</td>\n",
              "      <td>0</td>\n",
              "      <td>4</td>\n",
              "      <td>2017</td>\n",
              "      <td>1</td>\n",
              "    </tr>\n",
              "    <tr>\n",
              "      <th>2</th>\n",
              "      <td>2017-04-01</td>\n",
              "      <td>9</td>\n",
              "      <td>27.7</td>\n",
              "      <td>64.14</td>\n",
              "      <td>27.2</td>\n",
              "      <td>56.0</td>\n",
              "      <td>32.8</td>\n",
              "      <td>36.7</td>\n",
              "      <td>40.0</td>\n",
              "      <td>40.0</td>\n",
              "      <td>0.0</td>\n",
              "      <td>0.0</td>\n",
              "      <td>8.0</td>\n",
              "      <td>299.0</td>\n",
              "      <td>0</td>\n",
              "      <td>4</td>\n",
              "      <td>2017</td>\n",
              "      <td>1</td>\n",
              "    </tr>\n",
              "    <tr>\n",
              "      <th>3</th>\n",
              "      <td>2017-04-01</td>\n",
              "      <td>10</td>\n",
              "      <td>26.4</td>\n",
              "      <td>63.86</td>\n",
              "      <td>32.8</td>\n",
              "      <td>40.0</td>\n",
              "      <td>32.8</td>\n",
              "      <td>36.7</td>\n",
              "      <td>40.0</td>\n",
              "      <td>26.0</td>\n",
              "      <td>10.0</td>\n",
              "      <td>107.0</td>\n",
              "      <td>120.0</td>\n",
              "      <td>392.0</td>\n",
              "      <td>1</td>\n",
              "      <td>4</td>\n",
              "      <td>2017</td>\n",
              "      <td>1</td>\n",
              "    </tr>\n",
              "    <tr>\n",
              "      <th>4</th>\n",
              "      <td>2017-04-01</td>\n",
              "      <td>11</td>\n",
              "      <td>26.4</td>\n",
              "      <td>63.86</td>\n",
              "      <td>32.8</td>\n",
              "      <td>40.0</td>\n",
              "      <td>36.7</td>\n",
              "      <td>37.2</td>\n",
              "      <td>26.0</td>\n",
              "      <td>26.0</td>\n",
              "      <td>32.0</td>\n",
              "      <td>50.0</td>\n",
              "      <td>152.0</td>\n",
              "      <td>419.0</td>\n",
              "      <td>1</td>\n",
              "      <td>4</td>\n",
              "      <td>2017</td>\n",
              "      <td>1</td>\n",
              "    </tr>\n",
              "  </tbody>\n",
              "</table>\n",
              "</div>"
            ],
            "text/plain": [
              "        Date  time  smd_temp  smd_RH  ...  chiller_state  month  year  day\n",
              "0 2017-04-01     7      26.5   63.07  ...              0      4  2017    1\n",
              "1 2017-04-01     8      27.7   64.14  ...              0      4  2017    1\n",
              "2 2017-04-01     9      27.7   64.14  ...              0      4  2017    1\n",
              "3 2017-04-01    10      26.4   63.86  ...              1      4  2017    1\n",
              "4 2017-04-01    11      26.4   63.86  ...              1      4  2017    1\n",
              "\n",
              "[5 rows x 18 columns]"
            ]
          },
          "metadata": {
            "tags": []
          },
          "execution_count": 5
        }
      ]
    },
    {
      "cell_type": "code",
      "metadata": {
        "id": "ZJMkvUTS1jNn",
        "colab_type": "code",
        "colab": {}
      },
      "source": [
        "np.random.seed(7)\n",
        "classes_req =  ['time', 'smd_temp', 'smd_RH', 'amb_temp', 'amb_RH', 'SMD', 'chiller_state', 'month', 'year', 'day']\n",
        "df = df[classes_req]      "
      ],
      "execution_count": 0,
      "outputs": []
    },
    {
      "cell_type": "code",
      "metadata": {
        "id": "mU-oDcWH1rLi",
        "colab_type": "code",
        "colab": {}
      },
      "source": [
        "target_names = ['chiller_state']"
      ],
      "execution_count": 0,
      "outputs": []
    },
    {
      "cell_type": "markdown",
      "metadata": {
        "id": "-djVVHG3-mB6",
        "colab_type": "text"
      },
      "source": [
        ""
      ]
    },
    {
      "cell_type": "code",
      "metadata": {
        "id": "S94adsHc1uTf",
        "colab_type": "code",
        "colab": {}
      },
      "source": [
        "shift_days = 1\n",
        "shift_steps = shift_days * 2 "
      ],
      "execution_count": 0,
      "outputs": []
    },
    {
      "cell_type": "code",
      "metadata": {
        "id": "f0iJ7NtY1xCX",
        "colab_type": "code",
        "colab": {}
      },
      "source": [
        "\n",
        "df_targets = df[target_names].shift(-shift_steps)"
      ],
      "execution_count": 0,
      "outputs": []
    },
    {
      "cell_type": "code",
      "metadata": {
        "id": "0-Dlyt7y1yvH",
        "colab_type": "code",
        "outputId": "1d50142d-8b35-474f-dc54-fb2111811ca8",
        "colab": {
          "base_uri": "https://localhost:8080/",
          "height": 196
        }
      },
      "source": [
        "df_targets.head()"
      ],
      "execution_count": 10,
      "outputs": [
        {
          "output_type": "execute_result",
          "data": {
            "text/html": [
              "<div>\n",
              "<style scoped>\n",
              "    .dataframe tbody tr th:only-of-type {\n",
              "        vertical-align: middle;\n",
              "    }\n",
              "\n",
              "    .dataframe tbody tr th {\n",
              "        vertical-align: top;\n",
              "    }\n",
              "\n",
              "    .dataframe thead th {\n",
              "        text-align: right;\n",
              "    }\n",
              "</style>\n",
              "<table border=\"1\" class=\"dataframe\">\n",
              "  <thead>\n",
              "    <tr style=\"text-align: right;\">\n",
              "      <th></th>\n",
              "      <th>chiller_state</th>\n",
              "    </tr>\n",
              "  </thead>\n",
              "  <tbody>\n",
              "    <tr>\n",
              "      <th>0</th>\n",
              "      <td>0.0</td>\n",
              "    </tr>\n",
              "    <tr>\n",
              "      <th>1</th>\n",
              "      <td>1.0</td>\n",
              "    </tr>\n",
              "    <tr>\n",
              "      <th>2</th>\n",
              "      <td>1.0</td>\n",
              "    </tr>\n",
              "    <tr>\n",
              "      <th>3</th>\n",
              "      <td>1.0</td>\n",
              "    </tr>\n",
              "    <tr>\n",
              "      <th>4</th>\n",
              "      <td>1.0</td>\n",
              "    </tr>\n",
              "  </tbody>\n",
              "</table>\n",
              "</div>"
            ],
            "text/plain": [
              "   chiller_state\n",
              "0            0.0\n",
              "1            1.0\n",
              "2            1.0\n",
              "3            1.0\n",
              "4            1.0"
            ]
          },
          "metadata": {
            "tags": []
          },
          "execution_count": 10
        }
      ]
    },
    {
      "cell_type": "code",
      "metadata": {
        "id": "bsFe6CW711el",
        "colab_type": "code",
        "outputId": "fe511af5-e9e5-42e2-dfae-bcab5bc27f3a",
        "colab": {
          "base_uri": "https://localhost:8080/",
          "height": 256
        }
      },
      "source": [
        "df[target_names].head(shift_steps + 5)"
      ],
      "execution_count": 11,
      "outputs": [
        {
          "output_type": "execute_result",
          "data": {
            "text/html": [
              "<div>\n",
              "<style scoped>\n",
              "    .dataframe tbody tr th:only-of-type {\n",
              "        vertical-align: middle;\n",
              "    }\n",
              "\n",
              "    .dataframe tbody tr th {\n",
              "        vertical-align: top;\n",
              "    }\n",
              "\n",
              "    .dataframe thead th {\n",
              "        text-align: right;\n",
              "    }\n",
              "</style>\n",
              "<table border=\"1\" class=\"dataframe\">\n",
              "  <thead>\n",
              "    <tr style=\"text-align: right;\">\n",
              "      <th></th>\n",
              "      <th>chiller_state</th>\n",
              "    </tr>\n",
              "  </thead>\n",
              "  <tbody>\n",
              "    <tr>\n",
              "      <th>0</th>\n",
              "      <td>0</td>\n",
              "    </tr>\n",
              "    <tr>\n",
              "      <th>1</th>\n",
              "      <td>0</td>\n",
              "    </tr>\n",
              "    <tr>\n",
              "      <th>2</th>\n",
              "      <td>0</td>\n",
              "    </tr>\n",
              "    <tr>\n",
              "      <th>3</th>\n",
              "      <td>1</td>\n",
              "    </tr>\n",
              "    <tr>\n",
              "      <th>4</th>\n",
              "      <td>1</td>\n",
              "    </tr>\n",
              "    <tr>\n",
              "      <th>5</th>\n",
              "      <td>1</td>\n",
              "    </tr>\n",
              "    <tr>\n",
              "      <th>6</th>\n",
              "      <td>1</td>\n",
              "    </tr>\n",
              "  </tbody>\n",
              "</table>\n",
              "</div>"
            ],
            "text/plain": [
              "   chiller_state\n",
              "0              0\n",
              "1              0\n",
              "2              0\n",
              "3              1\n",
              "4              1\n",
              "5              1\n",
              "6              1"
            ]
          },
          "metadata": {
            "tags": []
          },
          "execution_count": 11
        }
      ]
    },
    {
      "cell_type": "code",
      "metadata": {
        "id": "E3TViUJX13X9",
        "colab_type": "code",
        "outputId": "856e3b6e-27e4-4634-82e0-f7364db9886f",
        "colab": {
          "base_uri": "https://localhost:8080/",
          "height": 196
        }
      },
      "source": [
        "df_targets.head(5)"
      ],
      "execution_count": 12,
      "outputs": [
        {
          "output_type": "execute_result",
          "data": {
            "text/html": [
              "<div>\n",
              "<style scoped>\n",
              "    .dataframe tbody tr th:only-of-type {\n",
              "        vertical-align: middle;\n",
              "    }\n",
              "\n",
              "    .dataframe tbody tr th {\n",
              "        vertical-align: top;\n",
              "    }\n",
              "\n",
              "    .dataframe thead th {\n",
              "        text-align: right;\n",
              "    }\n",
              "</style>\n",
              "<table border=\"1\" class=\"dataframe\">\n",
              "  <thead>\n",
              "    <tr style=\"text-align: right;\">\n",
              "      <th></th>\n",
              "      <th>chiller_state</th>\n",
              "    </tr>\n",
              "  </thead>\n",
              "  <tbody>\n",
              "    <tr>\n",
              "      <th>0</th>\n",
              "      <td>0.0</td>\n",
              "    </tr>\n",
              "    <tr>\n",
              "      <th>1</th>\n",
              "      <td>1.0</td>\n",
              "    </tr>\n",
              "    <tr>\n",
              "      <th>2</th>\n",
              "      <td>1.0</td>\n",
              "    </tr>\n",
              "    <tr>\n",
              "      <th>3</th>\n",
              "      <td>1.0</td>\n",
              "    </tr>\n",
              "    <tr>\n",
              "      <th>4</th>\n",
              "      <td>1.0</td>\n",
              "    </tr>\n",
              "  </tbody>\n",
              "</table>\n",
              "</div>"
            ],
            "text/plain": [
              "   chiller_state\n",
              "0            0.0\n",
              "1            1.0\n",
              "2            1.0\n",
              "3            1.0\n",
              "4            1.0"
            ]
          },
          "metadata": {
            "tags": []
          },
          "execution_count": 12
        }
      ]
    },
    {
      "cell_type": "code",
      "metadata": {
        "id": "bTt_8kCV15j3",
        "colab_type": "code",
        "outputId": "655aeb57-38f2-498d-9663-c4ad50360f85",
        "colab": {
          "base_uri": "https://localhost:8080/",
          "height": 196
        }
      },
      "source": [
        "df_targets.tail()"
      ],
      "execution_count": 13,
      "outputs": [
        {
          "output_type": "execute_result",
          "data": {
            "text/html": [
              "<div>\n",
              "<style scoped>\n",
              "    .dataframe tbody tr th:only-of-type {\n",
              "        vertical-align: middle;\n",
              "    }\n",
              "\n",
              "    .dataframe tbody tr th {\n",
              "        vertical-align: top;\n",
              "    }\n",
              "\n",
              "    .dataframe thead th {\n",
              "        text-align: right;\n",
              "    }\n",
              "</style>\n",
              "<table border=\"1\" class=\"dataframe\">\n",
              "  <thead>\n",
              "    <tr style=\"text-align: right;\">\n",
              "      <th></th>\n",
              "      <th>chiller_state</th>\n",
              "    </tr>\n",
              "  </thead>\n",
              "  <tbody>\n",
              "    <tr>\n",
              "      <th>19111</th>\n",
              "      <td>0.0</td>\n",
              "    </tr>\n",
              "    <tr>\n",
              "      <th>19112</th>\n",
              "      <td>0.0</td>\n",
              "    </tr>\n",
              "    <tr>\n",
              "      <th>19113</th>\n",
              "      <td>0.0</td>\n",
              "    </tr>\n",
              "    <tr>\n",
              "      <th>19114</th>\n",
              "      <td>NaN</td>\n",
              "    </tr>\n",
              "    <tr>\n",
              "      <th>19115</th>\n",
              "      <td>NaN</td>\n",
              "    </tr>\n",
              "  </tbody>\n",
              "</table>\n",
              "</div>"
            ],
            "text/plain": [
              "       chiller_state\n",
              "19111            0.0\n",
              "19112            0.0\n",
              "19113            0.0\n",
              "19114            NaN\n",
              "19115            NaN"
            ]
          },
          "metadata": {
            "tags": []
          },
          "execution_count": 13
        }
      ]
    },
    {
      "cell_type": "code",
      "metadata": {
        "id": "A1RktFHM17SZ",
        "colab_type": "code",
        "outputId": "531b2659-d484-4757-af9d-198dd3e08d28",
        "colab": {
          "base_uri": "https://localhost:8080/",
          "height": 234
        }
      },
      "source": [
        "x_data = df.values[0:-shift_steps]\n",
        "x_data"
      ],
      "execution_count": 14,
      "outputs": [
        {
          "output_type": "execute_result",
          "data": {
            "text/plain": [
              "array([[7.000e+00, 2.650e+01, 6.307e+01, ..., 4.000e+00, 2.017e+03,\n",
              "        1.000e+00],\n",
              "       [8.000e+00, 2.770e+01, 6.414e+01, ..., 4.000e+00, 2.017e+03,\n",
              "        1.000e+00],\n",
              "       [9.000e+00, 2.770e+01, 6.414e+01, ..., 4.000e+00, 2.017e+03,\n",
              "        1.000e+00],\n",
              "       ...,\n",
              "       [2.000e+00, 2.580e+01, 6.336e+01, ..., 1.000e+01, 2.019e+03,\n",
              "        3.100e+01],\n",
              "       [3.000e+00, 2.580e+01, 6.336e+01, ..., 1.000e+01, 2.019e+03,\n",
              "        3.100e+01],\n",
              "       [4.000e+00, 2.590e+01, 6.371e+01, ..., 1.000e+01, 2.019e+03,\n",
              "        3.100e+01]])"
            ]
          },
          "metadata": {
            "tags": []
          },
          "execution_count": 14
        }
      ]
    },
    {
      "cell_type": "code",
      "metadata": {
        "id": "7an-jMxs19DX",
        "colab_type": "code",
        "outputId": "5456d4cb-36de-4c95-a1ff-331efde8c44c",
        "colab": {
          "base_uri": "https://localhost:8080/",
          "height": 50
        }
      },
      "source": [
        "print(type(x_data))\n",
        "print(\"Shape:\", x_data.shape)"
      ],
      "execution_count": 15,
      "outputs": [
        {
          "output_type": "stream",
          "text": [
            "<class 'numpy.ndarray'>\n",
            "Shape: (19111, 10)\n"
          ],
          "name": "stdout"
        }
      ]
    },
    {
      "cell_type": "code",
      "metadata": {
        "id": "LiMuPHnY1_hf",
        "colab_type": "code",
        "outputId": "b8a0b5a6-85be-4585-e270-5adbed395969",
        "colab": {
          "base_uri": "https://localhost:8080/",
          "height": 134
        }
      },
      "source": [
        "y_data = df_targets.values[:-shift_steps]\n",
        "y_data"
      ],
      "execution_count": 16,
      "outputs": [
        {
          "output_type": "execute_result",
          "data": {
            "text/plain": [
              "array([[0.],\n",
              "       [1.],\n",
              "       [1.],\n",
              "       ...,\n",
              "       [0.],\n",
              "       [0.],\n",
              "       [0.]])"
            ]
          },
          "metadata": {
            "tags": []
          },
          "execution_count": 16
        }
      ]
    },
    {
      "cell_type": "code",
      "metadata": {
        "id": "rLoZvlJo2BCQ",
        "colab_type": "code",
        "outputId": "679fe706-535e-46d9-8a88-17718b745e05",
        "colab": {
          "base_uri": "https://localhost:8080/",
          "height": 50
        }
      },
      "source": [
        "print(type(y_data))\n",
        "print(\"Shape:\", y_data.shape)"
      ],
      "execution_count": 17,
      "outputs": [
        {
          "output_type": "stream",
          "text": [
            "<class 'numpy.ndarray'>\n",
            "Shape: (19111, 1)\n"
          ],
          "name": "stdout"
        }
      ]
    },
    {
      "cell_type": "code",
      "metadata": {
        "id": "jnXPMu8t2Dcn",
        "colab_type": "code",
        "outputId": "35656655-7c4b-4dd4-a0db-06c82f2d2025",
        "colab": {
          "base_uri": "https://localhost:8080/",
          "height": 33
        }
      },
      "source": [
        "num_data = len(x_data)\n",
        "num_data"
      ],
      "execution_count": 18,
      "outputs": [
        {
          "output_type": "execute_result",
          "data": {
            "text/plain": [
              "19111"
            ]
          },
          "metadata": {
            "tags": []
          },
          "execution_count": 18
        }
      ]
    },
    {
      "cell_type": "code",
      "metadata": {
        "id": "KHUc9-UC2F8n",
        "colab_type": "code",
        "outputId": "91d5a648-d4e5-4008-a9df-968277394dcf",
        "colab": {
          "base_uri": "https://localhost:8080/",
          "height": 33
        }
      },
      "source": [
        "train_split = 0.9\n",
        "num_train = int(train_split * num_data)\n",
        "num_train"
      ],
      "execution_count": 19,
      "outputs": [
        {
          "output_type": "execute_result",
          "data": {
            "text/plain": [
              "17199"
            ]
          },
          "metadata": {
            "tags": []
          },
          "execution_count": 19
        }
      ]
    },
    {
      "cell_type": "code",
      "metadata": {
        "id": "nZXDwtfI2Hrv",
        "colab_type": "code",
        "outputId": "736d6ecd-5c1d-4ec4-8446-4926c17cd713",
        "colab": {
          "base_uri": "https://localhost:8080/",
          "height": 33
        }
      },
      "source": [
        "num_test = num_data - num_train\n",
        "num_test"
      ],
      "execution_count": 20,
      "outputs": [
        {
          "output_type": "execute_result",
          "data": {
            "text/plain": [
              "1912"
            ]
          },
          "metadata": {
            "tags": []
          },
          "execution_count": 20
        }
      ]
    },
    {
      "cell_type": "code",
      "metadata": {
        "id": "SHpQE4Jw2Q-5",
        "colab_type": "code",
        "outputId": "9d615d62-7ca4-4fb0-fe9a-41538fb475e4",
        "colab": {
          "base_uri": "https://localhost:8080/",
          "height": 33
        }
      },
      "source": [
        "x_train = x_data[0:num_train]\n",
        "x_test = x_data[num_train:]\n",
        "len(x_train) + len(x_test)"
      ],
      "execution_count": 21,
      "outputs": [
        {
          "output_type": "execute_result",
          "data": {
            "text/plain": [
              "19111"
            ]
          },
          "metadata": {
            "tags": []
          },
          "execution_count": 21
        }
      ]
    },
    {
      "cell_type": "code",
      "metadata": {
        "id": "OhHYQCjv2UZv",
        "colab_type": "code",
        "outputId": "ff27e9ad-cfb3-40e8-ecb6-4a238ecbc54a",
        "colab": {
          "base_uri": "https://localhost:8080/",
          "height": 33
        }
      },
      "source": [
        "num_x_signals = x_data.shape[1]\n",
        "num_x_signals"
      ],
      "execution_count": 22,
      "outputs": [
        {
          "output_type": "execute_result",
          "data": {
            "text/plain": [
              "10"
            ]
          },
          "metadata": {
            "tags": []
          },
          "execution_count": 22
        }
      ]
    },
    {
      "cell_type": "code",
      "metadata": {
        "id": "NxQh-i3S2Wrv",
        "colab_type": "code",
        "outputId": "f3c96de7-aa50-4923-f31e-3da3b462ebd6",
        "colab": {
          "base_uri": "https://localhost:8080/",
          "height": 33
        }
      },
      "source": [
        "num_y_signals = y_data.shape[1]\n",
        "num_y_signals"
      ],
      "execution_count": 23,
      "outputs": [
        {
          "output_type": "execute_result",
          "data": {
            "text/plain": [
              "1"
            ]
          },
          "metadata": {
            "tags": []
          },
          "execution_count": 23
        }
      ]
    },
    {
      "cell_type": "code",
      "metadata": {
        "id": "tEO_hjAa2dDP",
        "colab_type": "code",
        "outputId": "2f0874e9-2e5d-4bf1-afcc-db8831ba05c0",
        "colab": {
          "base_uri": "https://localhost:8080/",
          "height": 33
        }
      },
      "source": [
        "x_scaler = MinMaxScaler()\n",
        "x_train_scaled = x_scaler.fit_transform(x_train)\n",
        "x_train_scaled\n",
        "y_train = y_data[0:num_train]\n",
        "y_test = y_data[num_train:]\n",
        "len(y_train) + len(y_test)\n"
      ],
      "execution_count": 24,
      "outputs": [
        {
          "output_type": "execute_result",
          "data": {
            "text/plain": [
              "19111"
            ]
          },
          "metadata": {
            "tags": []
          },
          "execution_count": 24
        }
      ]
    },
    {
      "cell_type": "code",
      "metadata": {
        "id": "BtPAlTLT2elf",
        "colab_type": "code",
        "outputId": "179d9104-6838-4f11-995b-fdaff9c5df58",
        "colab": {
          "base_uri": "https://localhost:8080/",
          "height": 50
        }
      },
      "source": [
        "print(\"Min:\", np.min(x_train_scaled))\n",
        "print(\"Max:\", np.max(x_train_scaled))"
      ],
      "execution_count": 25,
      "outputs": [
        {
          "output_type": "stream",
          "text": [
            "Min: 0.0\n",
            "Max: 1.0000000000000002\n"
          ],
          "name": "stdout"
        }
      ]
    },
    {
      "cell_type": "code",
      "metadata": {
        "id": "uhY-21ZU2hH_",
        "colab_type": "code",
        "outputId": "a62f866e-725d-4e5e-e1a8-b242f3ade2ed",
        "colab": {
          "base_uri": "https://localhost:8080/",
          "height": 50
        }
      },
      "source": [
        "print(\"Min:\", np.min(x_train))\n",
        "print(\"Max:\", np.max(x_train))"
      ],
      "execution_count": 26,
      "outputs": [
        {
          "output_type": "stream",
          "text": [
            "Min: -17.8\n",
            "Max: 2019.0\n"
          ],
          "name": "stdout"
        }
      ]
    },
    {
      "cell_type": "code",
      "metadata": {
        "id": "75TbPUpy2jpW",
        "colab_type": "code",
        "colab": {}
      },
      "source": [
        "y_scaler = MinMaxScaler()\n",
        "y_train_scaled = y_scaler.fit_transform(y_train)\n",
        "y_test_scaled = y_scaler.transform(y_test)"
      ],
      "execution_count": 0,
      "outputs": []
    },
    {
      "cell_type": "code",
      "metadata": {
        "id": "BjpIOCba2mSQ",
        "colab_type": "code",
        "outputId": "80689854-161f-467e-cf43-21ffdc37f5b0",
        "colab": {
          "base_uri": "https://localhost:8080/",
          "height": 50
        }
      },
      "source": [
        "print(x_train_scaled.shape)\n",
        "print(y_train_scaled.shape)"
      ],
      "execution_count": 28,
      "outputs": [
        {
          "output_type": "stream",
          "text": [
            "(17199, 10)\n",
            "(17199, 1)\n"
          ],
          "name": "stdout"
        }
      ]
    },
    {
      "cell_type": "code",
      "metadata": {
        "id": "GWp3jTil2zBf",
        "colab_type": "code",
        "colab": {}
      },
      "source": [
        "def batch_generator(batch_size, sequence_length):\n",
        "    \"\"\"\n",
        "    Generator function for creating random batches of training-data.\n",
        "    \"\"\"\n",
        "\n",
        "    # Infinite loop.\n",
        "    while True:\n",
        "        # Allocate a new array for the batch of input-signals.\n",
        "        x_shape = (batch_size, sequence_length, num_x_signals)\n",
        "        x_batch = np.zeros(shape=x_shape, dtype=np.float16)\n",
        "\n",
        "        # Allocate a new array for the batch of output-signals.\n",
        "        y_shape = (batch_size, sequence_length, num_y_signals)\n",
        "        y_batch = np.zeros(shape=y_shape, dtype=np.float16)\n",
        "\n",
        "        # Fill the batch with random sequences of data.\n",
        "        for i in range(batch_size):\n",
        "            # Get a random start-index.\n",
        "            # This points somewhere into the training-data.\n",
        "            idx = np.random.randint(num_train - sequence_length)\n",
        "            \n",
        "            # Copy the sequences of data starting at this index.\n",
        "            x_batch[i] = x_train_scaled[idx:idx+sequence_length]\n",
        "            y_batch[i] = y_train_scaled[idx:idx+sequence_length]\n",
        "        \n",
        "        yield (x_batch, y_batch)"
      ],
      "execution_count": 0,
      "outputs": []
    },
    {
      "cell_type": "code",
      "metadata": {
        "id": "LvyHVxTb22BO",
        "colab_type": "code",
        "colab": {}
      },
      "source": [
        "batch_size = 1024"
      ],
      "execution_count": 0,
      "outputs": []
    },
    {
      "cell_type": "code",
      "metadata": {
        "id": "ZMKYY3lM24Qn",
        "colab_type": "code",
        "outputId": "3f17b6b0-cbf2-416a-eb10-46376fe02aea",
        "colab": {
          "base_uri": "https://localhost:8080/",
          "height": 33
        }
      },
      "source": [
        "sequence_length = 24 * 7 * 8\n",
        "sequence_length"
      ],
      "execution_count": 31,
      "outputs": [
        {
          "output_type": "execute_result",
          "data": {
            "text/plain": [
              "1344"
            ]
          },
          "metadata": {
            "tags": []
          },
          "execution_count": 31
        }
      ]
    },
    {
      "cell_type": "code",
      "metadata": {
        "id": "AMYsnGQV3BfX",
        "colab_type": "code",
        "colab": {}
      },
      "source": [
        "generator = batch_generator(batch_size=batch_size,\n",
        "                            sequence_length=sequence_length)"
      ],
      "execution_count": 0,
      "outputs": []
    },
    {
      "cell_type": "code",
      "metadata": {
        "id": "YQTJMppd3D2h",
        "colab_type": "code",
        "colab": {}
      },
      "source": [
        "x_batch, y_batch = next(generator)"
      ],
      "execution_count": 0,
      "outputs": []
    },
    {
      "cell_type": "code",
      "metadata": {
        "id": "7-Q9IbXE3F3X",
        "colab_type": "code",
        "outputId": "e67d6daa-6878-4225-94fb-b94f6d9c79b8",
        "colab": {
          "base_uri": "https://localhost:8080/",
          "height": 50
        }
      },
      "source": [
        "print(x_batch.shape)\n",
        "print(y_batch.shape)"
      ],
      "execution_count": 34,
      "outputs": [
        {
          "output_type": "stream",
          "text": [
            "(128, 1344, 10)\n",
            "(128, 1344, 1)\n"
          ],
          "name": "stdout"
        }
      ]
    },
    {
      "cell_type": "code",
      "metadata": {
        "id": "tSMnydil3HV_",
        "colab_type": "code",
        "outputId": "aebda04f-090b-47a4-b47d-11dcefb23753",
        "colab": {
          "base_uri": "https://localhost:8080/",
          "height": 281
        }
      },
      "source": [
        "batch = 0   # First sequence in the batch.\n",
        "signal = 0  # First signal from the 20 input-signals.\n",
        "seq = x_batch[batch, :, signal]\n",
        "plt.plot(seq)"
      ],
      "execution_count": 35,
      "outputs": [
        {
          "output_type": "execute_result",
          "data": {
            "text/plain": [
              "[<matplotlib.lines.Line2D at 0x7ff352a16cf8>]"
            ]
          },
          "metadata": {
            "tags": []
          },
          "execution_count": 35
        },
        {
          "output_type": "display_data",
          "data": {
            "image/png": "[encoded data removed]",
            "text/plain": [
              "<Figure size 432x288 with 1 Axes>"
            ]
          },
          "metadata": {
            "tags": [],
            "needs_background": "light"
          }
        }
      ]
    },
    {
      "cell_type": "code",
      "metadata": {
        "id": "DnacHciw3MD4",
        "colab_type": "code",
        "outputId": "43ec8287-9375-475e-df93-b69a85d53437",
        "colab": {
          "base_uri": "https://localhost:8080/",
          "height": 281
        }
      },
      "source": [
        "seq = y_batch[batch, :, signal]\n",
        "plt.plot(seq)"
      ],
      "execution_count": 36,
      "outputs": [
        {
          "output_type": "execute_result",
          "data": {
            "text/plain": [
              "[<matplotlib.lines.Line2D at 0x7ff35256a390>]"
            ]
          },
          "metadata": {
            "tags": []
          },
          "execution_count": 36
        },
        {
          "output_type": "display_data",
          "data": {
            "image/png": "[encoded data removed]",
            "text/plain": [
              "<Figure size 432x288 with 1 Axes>"
            ]
          },
          "metadata": {
            "tags": [],
            "needs_background": "light"
          }
        }
      ]
    },
    {
      "cell_type": "code",
      "metadata": {
        "id": "ylZtLytN3OQ0",
        "colab_type": "code",
        "outputId": "13283970-e7cc-478b-e6bf-7cf4a4d57069",
        "colab": {
          "base_uri": "https://localhost:8080/",
          "height": 281
        }
      },
      "source": [
        "seq = y_batch[batch, :, signal]\n",
        "plt.plot(seq)"
      ],
      "execution_count": 37,
      "outputs": [
        {
          "output_type": "execute_result",
          "data": {
            "text/plain": [
              "[<matplotlib.lines.Line2D at 0x7ff3524d3198>]"
            ]
          },
          "metadata": {
            "tags": []
          },
          "execution_count": 37
        },
        {
          "output_type": "display_data",
          "data": {
            "image/png": "[encoded data removed]",
            "text/plain": [
              "<Figure size 432x288 with 1 Axes>"
            ]
          },
          "metadata": {
            "tags": [],
            "needs_background": "light"
          }
        }
      ]
    },
    {
      "cell_type": "code",
      "metadata": {
        "id": "yCD_kw8k3Pwf",
        "colab_type": "code",
        "colab": {}
      },
      "source": [
        "validation_data = (np.expand_dims(x_scaler.fit_transform(x_test), axis=0),\n",
        "                   np.expand_dims(y_scaler.transform(y_test), axis=0))\n"
      ],
      "execution_count": 0,
      "outputs": []
    },
    {
      "cell_type": "code",
      "metadata": {
        "id": "7qfIhacF3RwH",
        "colab_type": "code",
        "colab": {}
      },
      "source": [
        "model = Sequential()"
      ],
      "execution_count": 0,
      "outputs": []
    },
    {
      "cell_type": "code",
      "metadata": {
        "id": "a5F1PHoV3TWU",
        "colab_type": "code",
        "colab": {}
      },
      "source": [
        "model.add(GRU(units=512,\n",
        "              return_sequences=True,\n",
        "              input_shape=(None, num_x_signals,)))"
      ],
      "execution_count": 0,
      "outputs": []
    },
    {
      "cell_type": "code",
      "metadata": {
        "id": "1iCdSODR3VTK",
        "colab_type": "code",
        "colab": {}
      },
      "source": [
        "model.add(Dense(num_y_signals, activation='sigmoid'))"
      ],
      "execution_count": 0,
      "outputs": []
    },
    {
      "cell_type": "code",
      "metadata": {
        "id": "VpqAW1Lb3Xqm",
        "colab_type": "code",
        "colab": {}
      },
      "source": [
        "if False:\n",
        "    from tensorflow.python.keras.initializers import RandomUniform\n",
        "\n",
        "    # Maybe use lower init-ranges.\n",
        "    init = RandomUniform(minval=-0.05, maxval=0.05)\n",
        "\n",
        "    model.add(Dense(num_y_signals,\n",
        "                    activation='linear',\n",
        "                    kernel_initializer=init))"
      ],
      "execution_count": 0,
      "outputs": []
    },
    {
      "cell_type": "code",
      "metadata": {
        "id": "9dIvoozj3Z0G",
        "colab_type": "code",
        "colab": {}
      },
      "source": [
        "warmup_steps = 50"
      ],
      "execution_count": 0,
      "outputs": []
    },
    {
      "cell_type": "code",
      "metadata": {
        "id": "YPuqiqxV3bw_",
        "colab_type": "code",
        "colab": {}
      },
      "source": [
        "def loss_mse_warmup(y_true, y_pred):\n",
        "    \"\"\"\n",
        "    Calculate the Mean Squared Error between y_true and y_pred,\n",
        "    but ignore the beginning \"warmup\" part of the sequences.\n",
        "    \n",
        "    y_true is the desired output.\n",
        "    y_pred is the model's output.\n",
        "    \"\"\"\n",
        "\n",
        "    # The shape of both input tensors are:\n",
        "    # [batch_size, sequence_length, num_y_signals].\n",
        "\n",
        "    # Ignore the \"warmup\" parts of the sequences\n",
        "    # by taking slices of the tensors.\n",
        "    y_true_slice = y_true[:, warmup_steps:, :]\n",
        "    y_pred_slice = y_pred[:, warmup_steps:, :]\n",
        "\n",
        "    # These sliced tensors both have this shape:\n",
        "    # [batch_size, sequence_length - warmup_steps, num_y_signals]\n",
        "\n",
        "    # Calculat the Mean Squared Error and use it as loss.\n",
        "    mse = mean(square(y_true_slice - y_pred_slice))\n",
        "    \n",
        "    return mse\n"
      ],
      "execution_count": 0,
      "outputs": []
    },
    {
      "cell_type": "code",
      "metadata": {
        "id": "ggxFxg8G3dsb",
        "colab_type": "code",
        "colab": {}
      },
      "source": [
        "optimizer = RMSprop(lr=1e-3)"
      ],
      "execution_count": 0,
      "outputs": []
    },
    {
      "cell_type": "code",
      "metadata": {
        "id": "qXg0SEpe5JuI",
        "colab_type": "code",
        "colab": {}
      },
      "source": [
        ""
      ],
      "execution_count": 0,
      "outputs": []
    },
    {
      "cell_type": "code",
      "metadata": {
        "id": "HazFzyWV3fpX",
        "colab_type": "code",
        "colab": {}
      },
      "source": [
        "model.compile(loss=loss_mse_warmup, optimizer=optimizer)"
      ],
      "execution_count": 0,
      "outputs": []
    },
    {
      "cell_type": "code",
      "metadata": {
        "id": "Rou4g0nD3hQ6",
        "colab_type": "code",
        "outputId": "8e85f2a7-f221-4390-e6f8-5b69d3d4c086",
        "colab": {
          "base_uri": "https://localhost:8080/",
          "height": 217
        }
      },
      "source": [
        "model.summary()"
      ],
      "execution_count": 47,
      "outputs": [
        {
          "output_type": "stream",
          "text": [
            "Model: \"sequential\"\n",
            "_________________________________________________________________\n",
            "Layer (type)                 Output Shape              Param #   \n",
            "=================================================================\n",
            "gru (GRU)                    (None, None, 512)         804864    \n",
            "_________________________________________________________________\n",
            "dense (Dense)                (None, None, 1)           513       \n",
            "=================================================================\n",
            "Total params: 805,377\n",
            "Trainable params: 805,377\n",
            "Non-trainable params: 0\n",
            "_________________________________________________________________\n"
          ],
          "name": "stdout"
        }
      ]
    },
    {
      "cell_type": "code",
      "metadata": {
        "id": "4sm2IMI-3jKZ",
        "colab_type": "code",
        "colab": {}
      },
      "source": [
        "path_checkpoint = 'checkpoint.keras'\n",
        "callback_checkpoint = ModelCheckpoint(filepath=path_checkpoint,\n",
        "                                      monitor='val_loss',\n",
        "                                      verbose=1,\n",
        "                                      save_weights_only=True,\n",
        "                                      save_best_only=True)"
      ],
      "execution_count": 0,
      "outputs": []
    },
    {
      "cell_type": "code",
      "metadata": {
        "id": "hDwwW96l3m1H",
        "colab_type": "code",
        "colab": {}
      },
      "source": [
        "callback_early_stopping = EarlyStopping(monitor='val_loss',\n",
        "                                        patience=5, verbose=1)"
      ],
      "execution_count": 0,
      "outputs": []
    },
    {
      "cell_type": "code",
      "metadata": {
        "id": "HsV-phPq3pHA",
        "colab_type": "code",
        "colab": {}
      },
      "source": [
        "callback_tensorboard = TensorBoard(log_dir='./logs/',\n",
        "                                   histogram_freq=0,\n",
        "                                   write_graph=False)"
      ],
      "execution_count": 0,
      "outputs": []
    },
    {
      "cell_type": "code",
      "metadata": {
        "id": "hJdLQG-M3rI_",
        "colab_type": "code",
        "colab": {}
      },
      "source": [
        "callback_reduce_lr = ReduceLROnPlateau(monitor='val_loss',\n",
        "                                       factor=0.1,\n",
        "                                       min_lr=1e-4,\n",
        "                                       patience=0,\n",
        "                                       verbose=1)"
      ],
      "execution_count": 0,
      "outputs": []
    },
    {
      "cell_type": "code",
      "metadata": {
        "id": "C2P73mfw3s2W",
        "colab_type": "code",
        "colab": {}
      },
      "source": [
        "callbacks = [\n",
        "             callback_checkpoint,\n",
        "             callback_tensorboard,\n",
        "             callback_reduce_lr]"
      ],
      "execution_count": 0,
      "outputs": []
    },
    {
      "cell_type": "code",
      "metadata": {
        "id": "xClnD-VB3vGy",
        "colab_type": "code",
        "outputId": "47b1ffda-4d77-4e6f-8414-ba8cb088e5c4",
        "colab": {
          "base_uri": "https://localhost:8080/",
          "height": 686
        }
      },
      "source": [
        "%%time\n",
        "model.fit(x=generator,\n",
        "          epochs=100,\n",
        "          steps_per_epoch=1024,\n",
        "          validation_data=validation_data,\n",
        "          callbacks=callbacks)"
      ],
      "execution_count": 53,
      "outputs": [
        {
          "output_type": "stream",
          "text": [
            "Epoch 1/20\n",
            "100/100 [==============================] - ETA: 0s - loss: 0.1008\n",
            "Epoch 00001: val_loss improved from inf to 0.11517, saving model to checkpoint.keras\n",
            "100/100 [==============================] - 50s 505ms/step - loss: 0.1008 - val_loss: 0.1152 - lr: 0.0010\n",
            "Epoch 2/20\n",
            "100/100 [==============================] - ETA: 0s - loss: 0.0656\n",
            "Epoch 00002: val_loss improved from 0.11517 to 0.10150, saving model to checkpoint.keras\n",
            "100/100 [==============================] - 50s 502ms/step - loss: 0.0656 - val_loss: 0.1015 - lr: 0.0010\n",
            "Epoch 3/20\n",
            "100/100 [==============================] - ETA: 0s - loss: 0.0578\n",
            "Epoch 00003: val_loss improved from 0.10150 to 0.08272, saving model to checkpoint.keras\n",
            "100/100 [==============================] - 50s 503ms/step - loss: 0.0578 - val_loss: 0.0827 - lr: 0.0010\n",
            "Epoch 4/20\n",
            "100/100 [==============================] - ETA: 0s - loss: 0.0537\n",
            "Epoch 00004: val_loss did not improve from 0.08272\n",
            "\n",
            "Epoch 00004: ReduceLROnPlateau reducing learning rate to 0.00010000000474974513.\n",
            "100/100 [==============================] - 50s 503ms/step - loss: 0.0537 - val_loss: 0.1141 - lr: 0.0010\n",
            "Epoch 5/20\n",
            "100/100 [==============================] - ETA: 0s - loss: 0.0452\n",
            "Epoch 00005: val_loss did not improve from 0.08272\n",
            "\n",
            "Epoch 00005: ReduceLROnPlateau reducing learning rate to 0.0001.\n",
            "100/100 [==============================] - 50s 503ms/step - loss: 0.0452 - val_loss: 0.1013 - lr: 1.0000e-04\n",
            "Epoch 6/20\n",
            "100/100 [==============================] - ETA: 0s - loss: 0.0429\n",
            "Epoch 00006: val_loss did not improve from 0.08272\n",
            "100/100 [==============================] - 50s 504ms/step - loss: 0.0429 - val_loss: 0.1116 - lr: 1.0000e-04\n",
            "Epoch 7/20\n",
            "100/100 [==============================] - ETA: 0s - loss: 0.0416\n",
            "Epoch 00007: val_loss did not improve from 0.08272\n",
            "100/100 [==============================] - 50s 502ms/step - loss: 0.0416 - val_loss: 0.1214 - lr: 1.0000e-04\n",
            "Epoch 8/20\n",
            "100/100 [==============================] - ETA: 0s - loss: 0.0403\n",
            "Epoch 00008: val_loss did not improve from 0.08272\n",
            "100/100 [==============================] - 50s 503ms/step - loss: 0.0403 - val_loss: 0.1243 - lr: 1.0000e-04\n",
            "Epoch 00008: early stopping\n",
            "CPU times: user 4min 11s, sys: 2min 7s, total: 6min 19s\n",
            "Wall time: 6min 49s\n"
          ],
          "name": "stdout"
        },
        {
          "output_type": "execute_result",
          "data": {
            "text/plain": [
              "<tensorflow.python.keras.callbacks.History at 0x7ff3400b5c18>"
            ]
          },
          "metadata": {
            "tags": []
          },
          "execution_count": 53
        }
      ]
    },
    {
      "cell_type": "code",
      "metadata": {
        "id": "nPMsTQuG3xMA",
        "colab_type": "code",
        "colab": {}
      },
      "source": [
        "try:\n",
        "    model.load_weights(path_checkpoint)\n",
        "except Exception as error:\n",
        "    print(\"Error trying to load checkpoint.\")\n",
        "    print(error)"
      ],
      "execution_count": 0,
      "outputs": []
    },
    {
      "cell_type": "code",
      "metadata": {
        "id": "PfBWB3Yj5m7v",
        "colab_type": "code",
        "outputId": "901e7a54-b8bf-4468-d40a-5ef122a39418",
        "colab": {
          "base_uri": "https://localhost:8080/",
          "height": 33
        }
      },
      "source": [
        "result = model.evaluate(x=np.expand_dims(x_scaler.fit_transform(x_test), axis=0),\n",
        "                        y=np.expand_dims(y_scaler.transform(y_test), axis=0))"
      ],
      "execution_count": 55,
      "outputs": [
        {
          "output_type": "stream",
          "text": [
            "1/1 [==============================] - 0s 4ms/step - loss: 0.0827\n"
          ],
          "name": "stdout"
        }
      ]
    },
    {
      "cell_type": "code",
      "metadata": {
        "id": "FvzI4Ljc5pU4",
        "colab_type": "code",
        "outputId": "66d23955-d28d-474b-a592-8598a0e71050",
        "colab": {
          "base_uri": "https://localhost:8080/",
          "height": 33
        }
      },
      "source": [
        "print(\"loss (test-set):\", result)"
      ],
      "execution_count": 56,
      "outputs": [
        {
          "output_type": "stream",
          "text": [
            "loss (test-set): 0.08271842449903488\n"
          ],
          "name": "stdout"
        }
      ]
    },
    {
      "cell_type": "code",
      "metadata": {
        "id": "WNaItMjA6V4o",
        "colab_type": "code",
        "colab": {}
      },
      "source": [
        "def plot_comparison(start_idx, length=100, train=True):\n",
        "    \"\"\"\n",
        "    Plot the predicted and true output-signals.\n",
        "    \n",
        "    :param start_idx: Start-index for the time-series.\n",
        "    :param length: Sequence-length to process and plot.\n",
        "    :param train: Boolean whether to use training- or test-set.\n",
        "    \"\"\"\n",
        "    \n",
        "    if train:\n",
        "        # Use training-data.\n",
        "        x = x_train_scaled\n",
        "        y_true = y_train\n",
        "    else:\n",
        "        # Use test-data.\n",
        "        x = x_test_scaled\n",
        "        y_true = y_test\n",
        "    \n",
        "    # End-index for the sequences.\n",
        "    end_idx = start_idx + length\n",
        "    \n",
        "    # Select the sequences from the given start-index and\n",
        "    # of the given length.\n",
        "    x = x[start_idx:end_idx]\n",
        "    y_true = y_true[start_idx:end_idx]\n",
        "    \n",
        "    # Input-signals for the model.\n",
        "    x = np.expand_dims(x, axis=0)\n",
        "\n",
        "    # Use the model to predict the output-signals.\n",
        "    y_pred = model.predict(x)\n",
        "    \n",
        "    # The output of the model is between 0 and 1.\n",
        "    # Do an inverse map to get it back to the scale\n",
        "    # of the original data-set.\n",
        "    y_pred_rescaled = y_scaler.inverse_transform(y_pred[0])\n",
        "    \n",
        "    # For each output-signal.\n",
        "    for signal in range(len(target_names)):\n",
        "        # Get the output-signal predicted by the model.\n",
        "        signal_pred = y_pred_rescaled[:, signal]\n",
        "        \n",
        "        # Get the true output-signal from the data-set.\n",
        "        signal_true = y_true[:, signal]\n",
        "\n",
        "        # Make the plotting-canvas bigger.\n",
        "        plt.figure(figsize=(15,5))\n",
        "        \n",
        "        # Plot and compare the two signals.\n",
        "        plt.plot(signal_true, label='true')\n",
        "        plt.plot(signal_pred, label='pred')\n",
        "        \n",
        "        # Plot grey box for warmup-period.\n",
        "        p = plt.axvspan(0, warmup_steps, facecolor='black', alpha=0.15)\n",
        "        \n",
        "        # Plot labels etc.\n",
        "        plt.ylabel(target_names[signal])\n",
        "        plt.legend()\n",
        "        plt.show()"
      ],
      "execution_count": 0,
      "outputs": []
    },
    {
      "cell_type": "code",
      "metadata": {
        "id": "ae2LgX2e6lKS",
        "colab_type": "code",
        "outputId": "a62d1ee4-7bca-43bd-980d-015c2905fe96",
        "colab": {
          "base_uri": "https://localhost:8080/",
          "height": 320
        }
      },
      "source": [
        "plot_comparison(start_idx=100, length=1000, train=True)"
      ],
      "execution_count": 58,
      "outputs": [
        {
          "output_type": "display_data",
          "data": {
            "image/png": "[encoded data removed]",
            "text/plain": [
              "<Figure size 1080x360 with 1 Axes>"
            ]
          },
          "metadata": {
            "tags": [],
            "needs_background": "light"
          }
        }
      ]
    },
    {
      "cell_type": "code",
      "metadata": {
        "id": "ls-FJVDK6oVl",
        "colab_type": "code",
        "outputId": "918c7767-9bbb-42ce-ab3b-7dbf3fd5217c",
        "colab": {
          "base_uri": "https://localhost:8080/",
          "height": 265
        }
      },
      "source": [
        "df['chiller_state'][2000:2000+1000].plot();"
      ],
      "execution_count": 59,
      "outputs": [
        {
          "output_type": "display_data",
          "data": {
            "image/png": "[encoded data removed]",
            "text/plain": [
              "<Figure size 432x288 with 1 Axes>"
            ]
          },
          "metadata": {
            "tags": [],
            "needs_background": "light"
          }
        }
      ]
    },
    {
      "cell_type": "code",
      "metadata": {
        "id": "FnrWOc157mJP",
        "colab_type": "code",
        "colab": {}
      },
      "source": [
        "# testing the model results\n",
        "y_test.shape\n",
        "target_names = ['time', 'smd_temp', 'smd_RH', 'amb_temp', 'amb_RH', 'SMD', 'chiller_state', 'month', 'year', 'day']"
      ],
      "execution_count": 0,
      "outputs": []
    },
    {
      "cell_type": "code",
      "metadata": {
        "id": "pdufUrQT70jC",
        "colab_type": "code",
        "outputId": "fa053509-9f9c-4c18-b617-565982c4bfa2",
        "colab": {
          "base_uri": "https://localhost:8080/",
          "height": 50
        }
      },
      "source": [
        "x_test[0]\n"
      ],
      "execution_count": 61,
      "outputs": [
        {
          "output_type": "execute_result",
          "data": {
            "text/plain": [
              "array([7.000e+00, 2.660e+01, 6.429e+01, 2.940e+01, 8.000e+01, 5.730e+02,\n",
              "       1.000e+00, 7.000e+00, 2.019e+03, 3.000e+01])"
            ]
          },
          "metadata": {
            "tags": []
          },
          "execution_count": 61
        }
      ]
    },
    {
      "cell_type": "code",
      "metadata": {
        "id": "Q8KVxsFy--f0",
        "colab_type": "code",
        "colab": {}
      },
      "source": [
        "x = x_train_scaled\n",
        "y_true = y_train"
      ],
      "execution_count": 0,
      "outputs": []
    },
    {
      "cell_type": "code",
      "metadata": {
        "id": "cZilxX01BwhL",
        "colab_type": "code",
        "outputId": "5de4fc07-3d0b-46c8-9fe4-adc81f5cbf08",
        "colab": {
          "base_uri": "https://localhost:8080/",
          "height": 33
        }
      },
      "source": [
        "start_idx = 50\n",
        "length = 1\n",
        "end_idx = start_idx + length\n",
        "    \n",
        "    # Select the sequences from the given start-index and\n",
        "    # of the given length.\n",
        "x = x[start_idx:end_idx]\n",
        "y_true = y_true[start_idx:end_idx]\n",
        "    \n",
        "    # Input-signals for the model.\n",
        "x = np.expand_dims(x, axis=0)\n",
        "\n",
        "    # Use the model to predict the output-signals.\n",
        "y_pred = model.predict(x)\n",
        "    \n",
        "    # The output of the model is between 0 and 1.\n",
        "    # Do an inverse map to get it back to the scale\n",
        "    # of the original data-set.\n",
        "y_pred_rescaled = y_scaler.inverse_transform(y_pred[0])\n",
        "x.shape"
      ],
      "execution_count": 63,
      "outputs": [
        {
          "output_type": "execute_result",
          "data": {
            "text/plain": [
              "(1, 1, 10)"
            ]
          },
          "metadata": {
            "tags": []
          },
          "execution_count": 63
        }
      ]
    },
    {
      "cell_type": "code",
      "metadata": {
        "id": "Deu7Y9ngCB4y",
        "colab_type": "code",
        "outputId": "9e31f709-4515-42f4-acd0-566e7807655e",
        "colab": {
          "base_uri": "https://localhost:8080/",
          "height": 33
        }
      },
      "source": [
        "y_pred_rescaled.shape\n",
        "\n"
      ],
      "execution_count": 64,
      "outputs": [
        {
          "output_type": "execute_result",
          "data": {
            "text/plain": [
              "(1, 1)"
            ]
          },
          "metadata": {
            "tags": []
          },
          "execution_count": 64
        }
      ]
    },
    {
      "cell_type": "code",
      "metadata": {
        "id": "rvYZvzcbCFez",
        "colab_type": "code",
        "outputId": "9a1ef6e7-48bb-49a3-ff86-fceba5dd1520",
        "colab": {
          "base_uri": "https://localhost:8080/",
          "height": 33
        }
      },
      "source": [
        "y_pred_rescaled"
      ],
      "execution_count": 65,
      "outputs": [
        {
          "output_type": "execute_result",
          "data": {
            "text/plain": [
              "array([[0.89194584]], dtype=float32)"
            ]
          },
          "metadata": {
            "tags": []
          },
          "execution_count": 65
        }
      ]
    },
    {
      "cell_type": "code",
      "metadata": {
        "id": "pCBC9dhsCaPh",
        "colab_type": "code",
        "outputId": "16aceaf6-09c9-4e36-c48f-ae087c0d9dc4",
        "colab": {
          "base_uri": "https://localhost:8080/",
          "height": 33
        }
      },
      "source": [
        "y_true"
      ],
      "execution_count": 66,
      "outputs": [
        {
          "output_type": "execute_result",
          "data": {
            "text/plain": [
              "array([[1.]])"
            ]
          },
          "metadata": {
            "tags": []
          },
          "execution_count": 66
        }
      ]
    },
    {
      "cell_type": "code",
      "metadata": {
        "id": "zXxWD_koKCVl",
        "colab_type": "code",
        "colab": {}
      },
      "source": [
        ""
      ],
      "execution_count": 0,
      "outputs": []
    },
    {
      "cell_type": "code",
      "metadata": {
        "id": "1NKRB8CaJhoe",
        "colab_type": "code",
        "colab": {}
      },
      "source": [
        "# steps for prediction\n",
        "# create an array \n",
        "# a = []\n",
        "# of values in order\n",
        "# ['time', 'smd_temp', 'smd_RH', 'amb_temp', 'amb_RH', 'SMD', 'chiller_state', 'month', 'year', 'day']\n",
        "\n",
        "#        where time is the hour \n",
        "# example\n",
        "array_example =  [ 7.  ,  26.6 ,  64.29,  29.4 ,  80.  , 573.  ,   1., 6,2017 ,4  ] \n",
        "         \n"
      ],
      "execution_count": 0,
      "outputs": []
    },
    {
      "cell_type": "code",
      "metadata": {
        "id": "54H3bmYrKVRN",
        "colab_type": "code",
        "outputId": "bc2ec3ea-abfe-48fb-fdde-40b781215151",
        "colab": {
          "base_uri": "https://localhost:8080/",
          "height": 184
        }
      },
      "source": [
        "x_scaler = MinMaxScaler()\n",
        "array_example = x_scaler.fit_transform(np.array(array_example).reshape(-1,1))\n",
        "array_example.shape\n",
        "array_example"
      ],
      "execution_count": 68,
      "outputs": [
        {
          "output_type": "execute_result",
          "data": {
            "text/plain": [
              "array([[0.00297619],\n",
              "       [0.01269841],\n",
              "       [0.03139385],\n",
              "       [0.0140873 ],\n",
              "       [0.03918651],\n",
              "       [0.28373016],\n",
              "       [0.        ],\n",
              "       [0.00248016],\n",
              "       [1.        ],\n",
              "       [0.0014881 ]])"
            ]
          },
          "metadata": {
            "tags": []
          },
          "execution_count": 68
        }
      ]
    },
    {
      "cell_type": "code",
      "metadata": {
        "id": "6zWeR_hPKjxR",
        "colab_type": "code",
        "outputId": "71f370e0-c304-4b77-fccf-c1bc99727f4b",
        "colab": {
          "base_uri": "https://localhost:8080/",
          "height": 33
        }
      },
      "source": [
        "array_example = np.reshape(array_example , (1,-1))\n",
        "array_example.shape"
      ],
      "execution_count": 69,
      "outputs": [
        {
          "output_type": "execute_result",
          "data": {
            "text/plain": [
              "(1, 10)"
            ]
          },
          "metadata": {
            "tags": []
          },
          "execution_count": 69
        }
      ]
    },
    {
      "cell_type": "code",
      "metadata": {
        "id": "-ebiJfvpKuSp",
        "colab_type": "code",
        "colab": {}
      },
      "source": [
        "array_example = np.expand_dims(array_example, axis=0)\n",
        "y_pred = model.predict(array_example)\n",
        "# array_example.shape"
      ],
      "execution_count": 0,
      "outputs": []
    },
    {
      "cell_type": "code",
      "metadata": {
        "id": "RQvsPsacLGJY",
        "colab_type": "code",
        "outputId": "4ffd08fc-fe6c-4dfd-97c1-a7d77e1c2f8e",
        "colab": {
          "base_uri": "https://localhost:8080/",
          "height": 33
        }
      },
      "source": [
        "y_pred"
      ],
      "execution_count": 71,
      "outputs": [
        {
          "output_type": "execute_result",
          "data": {
            "text/plain": [
              "array([[[0.36139238]]], dtype=float32)"
            ]
          },
          "metadata": {
            "tags": []
          },
          "execution_count": 71
        }
      ]
    },
    {
      "cell_type": "code",
      "metadata": {
        "id": "A2KZnmlsNolc",
        "colab_type": "code",
        "outputId": "323cd813-dee1-4121-e74c-66bb711c063c",
        "colab": {
          "base_uri": "https://localhost:8080/",
          "height": 33
        }
      },
      "source": [
        "actual_state_pred = y_pred.round()\n",
        "actual_state_pred"
      ],
      "execution_count": 72,
      "outputs": [
        {
          "output_type": "execute_result",
          "data": {
            "text/plain": [
              "array([[[0.]]], dtype=float32)"
            ]
          },
          "metadata": {
            "tags": []
          },
          "execution_count": 72
        }
      ]
    },
    {
      "cell_type": "code",
      "metadata": {
        "id": "Ql8Vv8JVNtLT",
        "colab_type": "code",
        "colab": {}
      },
      "source": [
        "# The above was the mthod to get prediction 24hrs in the future\n",
        "\n",
        "# note that \n",
        "# dont asume that since x,y have same index they are of same date, the data is modified such that \n",
        "# y is 24hr ahead of x\n",
        "# for testing purposes and training aswell"
      ],
      "execution_count": 0,
      "outputs": []
    },
    {
      "cell_type": "code",
      "metadata": {
        "id": "4rsfLHZwObgB",
        "colab_type": "code",
        "colab": {}
      },
      "source": [
        "# finding accurary precision recall \n",
        "# for this i will use a set of test samples"
      ],
      "execution_count": 0,
      "outputs": []
    },
    {
      "cell_type": "code",
      "metadata": {
        "id": "S4f0NLB5OpSL",
        "colab_type": "code",
        "colab": {}
      },
      "source": [
        "from sklearn.metrics import accuracy_score\n",
        "from sklearn.metrics import precision_score\n",
        "from sklearn.metrics import recall_score"
      ],
      "execution_count": 0,
      "outputs": []
    },
    {
      "cell_type": "code",
      "metadata": {
        "id": "4EBMUfHpOyKX",
        "colab_type": "code",
        "colab": {}
      },
      "source": [
        "x =x_scaler.fit_transform(x_test)\n",
        "x = np.expand_dims(x, axis=0)\n",
        "y_true = y_test\n",
        "y_true = np.squeeze(y_true)\n",
        "y_pred = model.predict(x)\n",
        "y_pred = np.squeeze(y_pred)\n",
        "y_pred = y_pred.round()\n"
      ],
      "execution_count": 0,
      "outputs": []
    },
    {
      "cell_type": "code",
      "metadata": {
        "id": "l5mXUzpJOt8P",
        "colab_type": "code",
        "outputId": "bb9453df-5e3f-459c-f81f-ef3a350b1032",
        "colab": {
          "base_uri": "https://localhost:8080/",
          "height": 67
        }
      },
      "source": [
        "accuracy = accuracy_score(y_true, y_pred)\n",
        "print('Accuracy: %f' % accuracy)\n",
        "\n",
        "# precision \n",
        "precision = precision_score(y_true, y_pred)\n",
        "print('Precision: %f' % precision)\n",
        "\n",
        "# recall\n",
        "recall = recall_score(y_true,y_pred)\n",
        "print('Recall: %f' % recall)"
      ],
      "execution_count": 78,
      "outputs": [
        {
          "output_type": "stream",
          "text": [
            "Accuracy: 0.883368\n",
            "Precision: 0.901804\n",
            "Recall: 0.878049\n"
          ],
          "name": "stdout"
        }
      ]
    },
    {
      "cell_type": "code",
      "metadata": {
        "id": "nG8Ae66CPXVx",
        "colab_type": "code",
        "colab": {}
      },
      "source": [
        "# GRU is used for now is because lstm is takes up alot of vram and basic functionality of both of these is same \n",
        "# GRU is slightly faster too \n",
        "# both these algos provide good functionality for time series data"
      ],
      "execution_count": 0,
      "outputs": []
    },
    {
      "cell_type": "code",
      "metadata": {
        "id": "A_XbXeByPbIX",
        "colab_type": "code",
        "colab": {}
      },
      "source": [
        ""
      ],
      "execution_count": 0,
      "outputs": []
    },
    {
      "cell_type": "code",
      "metadata": {
        "id": "EfmahZEDPxVt",
        "colab_type": "code",
        "colab": {}
      },
      "source": [
        "# # amking the csv\n",
        "# we can take an example set of 50 rows\n",
        "# for checking the corrrectness of data \n",
        "# see row and row+24th row \n",
        "\n",
        "# since the data for tests is shifted by 24rows that is 1 day to predict the required 1 day in future\n",
        "# u can see indexed row and indexed row +24Th row\n",
        "\n",
        "# for example\n",
        "# if we have data in first row , the same corresponding chiller state will be found in y_true with a +24 index"
      ],
      "execution_count": 0,
      "outputs": []
    },
    {
      "cell_type": "code",
      "metadata": {
        "id": "ypbZzknaSfk4",
        "colab_type": "code",
        "colab": {}
      },
      "source": [
        "x =x_scaler.fit_transform(x_test[:])\n",
        "x = np.expand_dims(x, axis=0)\n",
        "y_true = y_test[:]\n",
        "y_true = np.squeeze(y_true)\n",
        "y_pred = model.predict(x)\n",
        "y_pred = np.squeeze(y_pred)\n",
        "y_pred = y_pred.round()"
      ],
      "execution_count": 0,
      "outputs": []
    },
    {
      "cell_type": "code",
      "metadata": {
        "id": "QzRaJKmdSrWE",
        "colab_type": "code",
        "outputId": "6026bc40-e704-4123-caa5-544443ae7be5",
        "colab": {
          "base_uri": "https://localhost:8080/",
          "height": 33
        }
      },
      "source": [
        "# we append x_test , y_true , y_pred to csv\n",
        "x_test[:].shape , y_true.shape ,y_pred.shape"
      ],
      "execution_count": 82,
      "outputs": [
        {
          "output_type": "execute_result",
          "data": {
            "text/plain": [
              "((1912, 10), (1912,), (1912,))"
            ]
          },
          "metadata": {
            "tags": []
          },
          "execution_count": 82
        }
      ]
    },
    {
      "cell_type": "code",
      "metadata": {
        "id": "A0YozWHqTLGI",
        "colab_type": "code",
        "colab": {}
      },
      "source": [
        "all_items = {'given_val_time_t': x_test[:][: , 6],\n",
        "        'actual_state_time_t+2hr': y_true,\n",
        "        'predicted_state_time_t+2hr' : y_pred\n",
        "        }\n",
        "\n",
        "df = pd.DataFrame(all_items, columns= ['given_val_time_t', 'actual_state_time_t+2hr' ,'predicted_state_time_t+2hr' ])"
      ],
      "execution_count": 0,
      "outputs": []
    },
    {
      "cell_type": "code",
      "metadata": {
        "id": "zy-osWh7T_o3",
        "colab_type": "code",
        "colab": {}
      },
      "source": [
        "df.to_csv(\"output.csv\" , index=True)"
      ],
      "execution_count": 0,
      "outputs": []
    },
    {
      "cell_type": "code",
      "metadata": {
        "id": "vMpdKXVVUsil",
        "colab_type": "code",
        "outputId": "b1d6bd60-13c3-4601-fd71-7d84039fef32",
        "colab": {
          "base_uri": "https://localhost:8080/",
          "height": 196
        }
      },
      "source": [
        "df.head()"
      ],
      "execution_count": 85,
      "outputs": [
        {
          "output_type": "execute_result",
          "data": {
            "text/html": [
              "<div>\n",
              "<style scoped>\n",
              "    .dataframe tbody tr th:only-of-type {\n",
              "        vertical-align: middle;\n",
              "    }\n",
              "\n",
              "    .dataframe tbody tr th {\n",
              "        vertical-align: top;\n",
              "    }\n",
              "\n",
              "    .dataframe thead th {\n",
              "        text-align: right;\n",
              "    }\n",
              "</style>\n",
              "<table border=\"1\" class=\"dataframe\">\n",
              "  <thead>\n",
              "    <tr style=\"text-align: right;\">\n",
              "      <th></th>\n",
              "      <th>given_val_time_t</th>\n",
              "      <th>actual_state_time_t+2hr</th>\n",
              "      <th>predicted_state_time_t+2hr</th>\n",
              "    </tr>\n",
              "  </thead>\n",
              "  <tbody>\n",
              "    <tr>\n",
              "      <th>0</th>\n",
              "      <td>1.0</td>\n",
              "      <td>1.0</td>\n",
              "      <td>1.0</td>\n",
              "    </tr>\n",
              "    <tr>\n",
              "      <th>1</th>\n",
              "      <td>1.0</td>\n",
              "      <td>1.0</td>\n",
              "      <td>1.0</td>\n",
              "    </tr>\n",
              "    <tr>\n",
              "      <th>2</th>\n",
              "      <td>1.0</td>\n",
              "      <td>1.0</td>\n",
              "      <td>1.0</td>\n",
              "    </tr>\n",
              "    <tr>\n",
              "      <th>3</th>\n",
              "      <td>1.0</td>\n",
              "      <td>1.0</td>\n",
              "      <td>1.0</td>\n",
              "    </tr>\n",
              "    <tr>\n",
              "      <th>4</th>\n",
              "      <td>1.0</td>\n",
              "      <td>1.0</td>\n",
              "      <td>1.0</td>\n",
              "    </tr>\n",
              "  </tbody>\n",
              "</table>\n",
              "</div>"
            ],
            "text/plain": [
              "   given_val_time_t  actual_state_time_t+2hr  predicted_state_time_t+2hr\n",
              "0               1.0                      1.0                         1.0\n",
              "1               1.0                      1.0                         1.0\n",
              "2               1.0                      1.0                         1.0\n",
              "3               1.0                      1.0                         1.0\n",
              "4               1.0                      1.0                         1.0"
            ]
          },
          "metadata": {
            "tags": []
          },
          "execution_count": 85
        }
      ]
    },
    {
      "cell_type": "code",
      "metadata": {
        "id": "uiPL5k5dGJta",
        "colab_type": "code",
        "colab": {}
      },
      "source": [
        ""
      ],
      "execution_count": 0,
      "outputs": []
    }
  ]
}